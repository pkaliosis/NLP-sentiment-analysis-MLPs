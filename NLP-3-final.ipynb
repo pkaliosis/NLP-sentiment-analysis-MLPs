{
  "nbformat": 4,
  "nbformat_minor": 0,
  "metadata": {
    "colab": {
      "provenance": [],
      "collapsed_sections": [
        "OOODeUZwuOS4",
        "orgz5vqv9PvN"
      ]
    },
    "kernelspec": {
      "name": "python3",
      "display_name": "Python 3"
    },
    "language_info": {
      "name": "python"
    },
    "accelerator": "GPU",
    "gpuClass": "standard",
    "widgets": {
      "application/vnd.jupyter.widget-state+json": {
        "80f0945ed9bb49419c74400321e5157f": {
          "model_module": "@jupyter-widgets/controls",
          "model_name": "HBoxModel",
          "model_module_version": "1.5.0",
          "state": {
            "_dom_classes": [],
            "_model_module": "@jupyter-widgets/controls",
            "_model_module_version": "1.5.0",
            "_model_name": "HBoxModel",
            "_view_count": null,
            "_view_module": "@jupyter-widgets/controls",
            "_view_module_version": "1.5.0",
            "_view_name": "HBoxView",
            "box_style": "",
            "children": [
              "IPY_MODEL_da126f712ef34a2ea066a714527b5e2e",
              "IPY_MODEL_3d38dcf6608343b09d452d1556668ffb",
              "IPY_MODEL_0481140a9d1e410a86f869928822fbae"
            ],
            "layout": "IPY_MODEL_31bae63454a74283bb248a2c3efff5a9"
          }
        },
        "da126f712ef34a2ea066a714527b5e2e": {
          "model_module": "@jupyter-widgets/controls",
          "model_name": "HTMLModel",
          "model_module_version": "1.5.0",
          "state": {
            "_dom_classes": [],
            "_model_module": "@jupyter-widgets/controls",
            "_model_module_version": "1.5.0",
            "_model_name": "HTMLModel",
            "_view_count": null,
            "_view_module": "@jupyter-widgets/controls",
            "_view_module_version": "1.5.0",
            "_view_name": "HTMLView",
            "description": "",
            "description_tooltip": null,
            "layout": "IPY_MODEL_16d6c8bdb8fe4a4186b692bb453cf035",
            "placeholder": "​",
            "style": "IPY_MODEL_7a087704df944e7c9c0bf4c9c800cc4d",
            "value": "100%"
          }
        },
        "3d38dcf6608343b09d452d1556668ffb": {
          "model_module": "@jupyter-widgets/controls",
          "model_name": "FloatProgressModel",
          "model_module_version": "1.5.0",
          "state": {
            "_dom_classes": [],
            "_model_module": "@jupyter-widgets/controls",
            "_model_module_version": "1.5.0",
            "_model_name": "FloatProgressModel",
            "_view_count": null,
            "_view_module": "@jupyter-widgets/controls",
            "_view_module_version": "1.5.0",
            "_view_name": "ProgressView",
            "bar_style": "success",
            "description": "",
            "description_tooltip": null,
            "layout": "IPY_MODEL_196c96b5e2c7440c8ac129011be35056",
            "max": 2,
            "min": 0,
            "orientation": "horizontal",
            "style": "IPY_MODEL_8844c7b85c424714b8ba462531647e40",
            "value": 2
          }
        },
        "0481140a9d1e410a86f869928822fbae": {
          "model_module": "@jupyter-widgets/controls",
          "model_name": "HTMLModel",
          "model_module_version": "1.5.0",
          "state": {
            "_dom_classes": [],
            "_model_module": "@jupyter-widgets/controls",
            "_model_module_version": "1.5.0",
            "_model_name": "HTMLModel",
            "_view_count": null,
            "_view_module": "@jupyter-widgets/controls",
            "_view_module_version": "1.5.0",
            "_view_name": "HTMLView",
            "description": "",
            "description_tooltip": null,
            "layout": "IPY_MODEL_9647057d60bf40a197a6ccfeafe23e7c",
            "placeholder": "​",
            "style": "IPY_MODEL_e3ced281ca2b444096868c86c2950f66",
            "value": " 2/2 [00:00&lt;00:00, 34.61it/s]"
          }
        },
        "31bae63454a74283bb248a2c3efff5a9": {
          "model_module": "@jupyter-widgets/base",
          "model_name": "LayoutModel",
          "model_module_version": "1.2.0",
          "state": {
            "_model_module": "@jupyter-widgets/base",
            "_model_module_version": "1.2.0",
            "_model_name": "LayoutModel",
            "_view_count": null,
            "_view_module": "@jupyter-widgets/base",
            "_view_module_version": "1.2.0",
            "_view_name": "LayoutView",
            "align_content": null,
            "align_items": null,
            "align_self": null,
            "border": null,
            "bottom": null,
            "display": null,
            "flex": null,
            "flex_flow": null,
            "grid_area": null,
            "grid_auto_columns": null,
            "grid_auto_flow": null,
            "grid_auto_rows": null,
            "grid_column": null,
            "grid_gap": null,
            "grid_row": null,
            "grid_template_areas": null,
            "grid_template_columns": null,
            "grid_template_rows": null,
            "height": null,
            "justify_content": null,
            "justify_items": null,
            "left": null,
            "margin": null,
            "max_height": null,
            "max_width": null,
            "min_height": null,
            "min_width": null,
            "object_fit": null,
            "object_position": null,
            "order": null,
            "overflow": null,
            "overflow_x": null,
            "overflow_y": null,
            "padding": null,
            "right": null,
            "top": null,
            "visibility": null,
            "width": null
          }
        },
        "16d6c8bdb8fe4a4186b692bb453cf035": {
          "model_module": "@jupyter-widgets/base",
          "model_name": "LayoutModel",
          "model_module_version": "1.2.0",
          "state": {
            "_model_module": "@jupyter-widgets/base",
            "_model_module_version": "1.2.0",
            "_model_name": "LayoutModel",
            "_view_count": null,
            "_view_module": "@jupyter-widgets/base",
            "_view_module_version": "1.2.0",
            "_view_name": "LayoutView",
            "align_content": null,
            "align_items": null,
            "align_self": null,
            "border": null,
            "bottom": null,
            "display": null,
            "flex": null,
            "flex_flow": null,
            "grid_area": null,
            "grid_auto_columns": null,
            "grid_auto_flow": null,
            "grid_auto_rows": null,
            "grid_column": null,
            "grid_gap": null,
            "grid_row": null,
            "grid_template_areas": null,
            "grid_template_columns": null,
            "grid_template_rows": null,
            "height": null,
            "justify_content": null,
            "justify_items": null,
            "left": null,
            "margin": null,
            "max_height": null,
            "max_width": null,
            "min_height": null,
            "min_width": null,
            "object_fit": null,
            "object_position": null,
            "order": null,
            "overflow": null,
            "overflow_x": null,
            "overflow_y": null,
            "padding": null,
            "right": null,
            "top": null,
            "visibility": null,
            "width": null
          }
        },
        "7a087704df944e7c9c0bf4c9c800cc4d": {
          "model_module": "@jupyter-widgets/controls",
          "model_name": "DescriptionStyleModel",
          "model_module_version": "1.5.0",
          "state": {
            "_model_module": "@jupyter-widgets/controls",
            "_model_module_version": "1.5.0",
            "_model_name": "DescriptionStyleModel",
            "_view_count": null,
            "_view_module": "@jupyter-widgets/base",
            "_view_module_version": "1.2.0",
            "_view_name": "StyleView",
            "description_width": ""
          }
        },
        "196c96b5e2c7440c8ac129011be35056": {
          "model_module": "@jupyter-widgets/base",
          "model_name": "LayoutModel",
          "model_module_version": "1.2.0",
          "state": {
            "_model_module": "@jupyter-widgets/base",
            "_model_module_version": "1.2.0",
            "_model_name": "LayoutModel",
            "_view_count": null,
            "_view_module": "@jupyter-widgets/base",
            "_view_module_version": "1.2.0",
            "_view_name": "LayoutView",
            "align_content": null,
            "align_items": null,
            "align_self": null,
            "border": null,
            "bottom": null,
            "display": null,
            "flex": null,
            "flex_flow": null,
            "grid_area": null,
            "grid_auto_columns": null,
            "grid_auto_flow": null,
            "grid_auto_rows": null,
            "grid_column": null,
            "grid_gap": null,
            "grid_row": null,
            "grid_template_areas": null,
            "grid_template_columns": null,
            "grid_template_rows": null,
            "height": null,
            "justify_content": null,
            "justify_items": null,
            "left": null,
            "margin": null,
            "max_height": null,
            "max_width": null,
            "min_height": null,
            "min_width": null,
            "object_fit": null,
            "object_position": null,
            "order": null,
            "overflow": null,
            "overflow_x": null,
            "overflow_y": null,
            "padding": null,
            "right": null,
            "top": null,
            "visibility": null,
            "width": null
          }
        },
        "8844c7b85c424714b8ba462531647e40": {
          "model_module": "@jupyter-widgets/controls",
          "model_name": "ProgressStyleModel",
          "model_module_version": "1.5.0",
          "state": {
            "_model_module": "@jupyter-widgets/controls",
            "_model_module_version": "1.5.0",
            "_model_name": "ProgressStyleModel",
            "_view_count": null,
            "_view_module": "@jupyter-widgets/base",
            "_view_module_version": "1.2.0",
            "_view_name": "StyleView",
            "bar_color": null,
            "description_width": ""
          }
        },
        "9647057d60bf40a197a6ccfeafe23e7c": {
          "model_module": "@jupyter-widgets/base",
          "model_name": "LayoutModel",
          "model_module_version": "1.2.0",
          "state": {
            "_model_module": "@jupyter-widgets/base",
            "_model_module_version": "1.2.0",
            "_model_name": "LayoutModel",
            "_view_count": null,
            "_view_module": "@jupyter-widgets/base",
            "_view_module_version": "1.2.0",
            "_view_name": "LayoutView",
            "align_content": null,
            "align_items": null,
            "align_self": null,
            "border": null,
            "bottom": null,
            "display": null,
            "flex": null,
            "flex_flow": null,
            "grid_area": null,
            "grid_auto_columns": null,
            "grid_auto_flow": null,
            "grid_auto_rows": null,
            "grid_column": null,
            "grid_gap": null,
            "grid_row": null,
            "grid_template_areas": null,
            "grid_template_columns": null,
            "grid_template_rows": null,
            "height": null,
            "justify_content": null,
            "justify_items": null,
            "left": null,
            "margin": null,
            "max_height": null,
            "max_width": null,
            "min_height": null,
            "min_width": null,
            "object_fit": null,
            "object_position": null,
            "order": null,
            "overflow": null,
            "overflow_x": null,
            "overflow_y": null,
            "padding": null,
            "right": null,
            "top": null,
            "visibility": null,
            "width": null
          }
        },
        "e3ced281ca2b444096868c86c2950f66": {
          "model_module": "@jupyter-widgets/controls",
          "model_name": "DescriptionStyleModel",
          "model_module_version": "1.5.0",
          "state": {
            "_model_module": "@jupyter-widgets/controls",
            "_model_module_version": "1.5.0",
            "_model_name": "DescriptionStyleModel",
            "_view_count": null,
            "_view_module": "@jupyter-widgets/base",
            "_view_module_version": "1.2.0",
            "_view_name": "StyleView",
            "description_width": ""
          }
        }
      }
    }
  },
  "cells": [
    {
      "cell_type": "code",
      "source": [
        "!pip3 install datasets"
      ],
      "metadata": {
        "colab": {
          "base_uri": "https://localhost:8080/"
        },
        "id": "sEOwjCArHGSo",
        "outputId": "ea7862fa-dfe7-4c18-db73-be41daf8899e"
      },
      "execution_count": null,
      "outputs": [
        {
          "output_type": "stream",
          "name": "stdout",
          "text": [
            "Looking in indexes: https://pypi.org/simple, https://us-python.pkg.dev/colab-wheels/public/simple/\n",
            "Requirement already satisfied: datasets in /usr/local/lib/python3.7/dist-packages (2.7.1)\n",
            "Requirement already satisfied: pyyaml>=5.1 in /usr/local/lib/python3.7/dist-packages (from datasets) (6.0)\n",
            "Requirement already satisfied: pyarrow>=6.0.0 in /usr/local/lib/python3.7/dist-packages (from datasets) (9.0.0)\n",
            "Requirement already satisfied: multiprocess in /usr/local/lib/python3.7/dist-packages (from datasets) (0.70.14)\n",
            "Requirement already satisfied: responses<0.19 in /usr/local/lib/python3.7/dist-packages (from datasets) (0.18.0)\n",
            "Requirement already satisfied: dill<0.3.7 in /usr/local/lib/python3.7/dist-packages (from datasets) (0.3.6)\n",
            "Requirement already satisfied: pandas in /usr/local/lib/python3.7/dist-packages (from datasets) (1.3.5)\n",
            "Requirement already satisfied: tqdm>=4.62.1 in /usr/local/lib/python3.7/dist-packages (from datasets) (4.64.1)\n",
            "Requirement already satisfied: xxhash in /usr/local/lib/python3.7/dist-packages (from datasets) (3.1.0)\n",
            "Requirement already satisfied: requests>=2.19.0 in /usr/local/lib/python3.7/dist-packages (from datasets) (2.23.0)\n",
            "Requirement already satisfied: numpy>=1.17 in /usr/local/lib/python3.7/dist-packages (from datasets) (1.21.6)\n",
            "Requirement already satisfied: huggingface-hub<1.0.0,>=0.2.0 in /usr/local/lib/python3.7/dist-packages (from datasets) (0.11.1)\n",
            "Requirement already satisfied: aiohttp in /usr/local/lib/python3.7/dist-packages (from datasets) (3.8.3)\n",
            "Requirement already satisfied: fsspec[http]>=2021.11.1 in /usr/local/lib/python3.7/dist-packages (from datasets) (2022.11.0)\n",
            "Requirement already satisfied: importlib-metadata in /usr/local/lib/python3.7/dist-packages (from datasets) (4.13.0)\n",
            "Requirement already satisfied: packaging in /usr/local/lib/python3.7/dist-packages (from datasets) (21.3)\n",
            "Requirement already satisfied: async-timeout<5.0,>=4.0.0a3 in /usr/local/lib/python3.7/dist-packages (from aiohttp->datasets) (4.0.2)\n",
            "Requirement already satisfied: attrs>=17.3.0 in /usr/local/lib/python3.7/dist-packages (from aiohttp->datasets) (22.1.0)\n",
            "Requirement already satisfied: aiosignal>=1.1.2 in /usr/local/lib/python3.7/dist-packages (from aiohttp->datasets) (1.3.1)\n",
            "Requirement already satisfied: frozenlist>=1.1.1 in /usr/local/lib/python3.7/dist-packages (from aiohttp->datasets) (1.3.3)\n",
            "Requirement already satisfied: charset-normalizer<3.0,>=2.0 in /usr/local/lib/python3.7/dist-packages (from aiohttp->datasets) (2.1.1)\n",
            "Requirement already satisfied: multidict<7.0,>=4.5 in /usr/local/lib/python3.7/dist-packages (from aiohttp->datasets) (6.0.2)\n",
            "Requirement already satisfied: typing-extensions>=3.7.4 in /usr/local/lib/python3.7/dist-packages (from aiohttp->datasets) (4.1.1)\n",
            "Requirement already satisfied: asynctest==0.13.0 in /usr/local/lib/python3.7/dist-packages (from aiohttp->datasets) (0.13.0)\n",
            "Requirement already satisfied: yarl<2.0,>=1.0 in /usr/local/lib/python3.7/dist-packages (from aiohttp->datasets) (1.8.1)\n",
            "Requirement already satisfied: filelock in /usr/local/lib/python3.7/dist-packages (from huggingface-hub<1.0.0,>=0.2.0->datasets) (3.8.0)\n",
            "Requirement already satisfied: pyparsing!=3.0.5,>=2.0.2 in /usr/local/lib/python3.7/dist-packages (from packaging->datasets) (3.0.9)\n",
            "Requirement already satisfied: certifi>=2017.4.17 in /usr/local/lib/python3.7/dist-packages (from requests>=2.19.0->datasets) (2022.9.24)\n",
            "Requirement already satisfied: chardet<4,>=3.0.2 in /usr/local/lib/python3.7/dist-packages (from requests>=2.19.0->datasets) (3.0.4)\n",
            "Requirement already satisfied: urllib3!=1.25.0,!=1.25.1,<1.26,>=1.21.1 in /usr/local/lib/python3.7/dist-packages (from requests>=2.19.0->datasets) (1.25.11)\n",
            "Requirement already satisfied: idna<3,>=2.5 in /usr/local/lib/python3.7/dist-packages (from requests>=2.19.0->datasets) (2.10)\n",
            "Requirement already satisfied: zipp>=0.5 in /usr/local/lib/python3.7/dist-packages (from importlib-metadata->datasets) (3.10.0)\n",
            "Requirement already satisfied: pytz>=2017.3 in /usr/local/lib/python3.7/dist-packages (from pandas->datasets) (2022.6)\n",
            "Requirement already satisfied: python-dateutil>=2.7.3 in /usr/local/lib/python3.7/dist-packages (from pandas->datasets) (2.8.2)\n",
            "Requirement already satisfied: six>=1.5 in /usr/local/lib/python3.7/dist-packages (from python-dateutil>=2.7.3->pandas->datasets) (1.15.0)\n"
          ]
        }
      ]
    },
    {
      "cell_type": "code",
      "source": [
        "!pip install --upgrade tensorflow"
      ],
      "metadata": {
        "colab": {
          "base_uri": "https://localhost:8080/"
        },
        "id": "FFK7He9bYFZm",
        "outputId": "1a199bfd-14a8-442f-864f-403762bf8886"
      },
      "execution_count": null,
      "outputs": [
        {
          "output_type": "stream",
          "name": "stdout",
          "text": [
            "Looking in indexes: https://pypi.org/simple, https://us-python.pkg.dev/colab-wheels/public/simple/\n",
            "Requirement already satisfied: tensorflow in /usr/local/lib/python3.7/dist-packages (2.11.0)\n",
            "Requirement already satisfied: flatbuffers>=2.0 in /usr/local/lib/python3.7/dist-packages (from tensorflow) (22.11.23)\n",
            "Requirement already satisfied: h5py>=2.9.0 in /usr/local/lib/python3.7/dist-packages (from tensorflow) (3.1.0)\n",
            "Requirement already satisfied: setuptools in /usr/local/lib/python3.7/dist-packages (from tensorflow) (57.4.0)\n",
            "Requirement already satisfied: absl-py>=1.0.0 in /usr/local/lib/python3.7/dist-packages (from tensorflow) (1.3.0)\n",
            "Requirement already satisfied: opt-einsum>=2.3.2 in /usr/local/lib/python3.7/dist-packages (from tensorflow) (3.3.0)\n",
            "Requirement already satisfied: google-pasta>=0.1.1 in /usr/local/lib/python3.7/dist-packages (from tensorflow) (0.2.0)\n",
            "Requirement already satisfied: packaging in /usr/local/lib/python3.7/dist-packages (from tensorflow) (21.3)\n",
            "Requirement already satisfied: gast<=0.4.0,>=0.2.1 in /usr/local/lib/python3.7/dist-packages (from tensorflow) (0.4.0)\n",
            "Requirement already satisfied: tensorflow-estimator<2.12,>=2.11.0 in /usr/local/lib/python3.7/dist-packages (from tensorflow) (2.11.0)\n",
            "Requirement already satisfied: six>=1.12.0 in /usr/local/lib/python3.7/dist-packages (from tensorflow) (1.15.0)\n",
            "Requirement already satisfied: termcolor>=1.1.0 in /usr/local/lib/python3.7/dist-packages (from tensorflow) (2.1.0)\n",
            "Requirement already satisfied: libclang>=13.0.0 in /usr/local/lib/python3.7/dist-packages (from tensorflow) (14.0.6)\n",
            "Requirement already satisfied: protobuf<3.20,>=3.9.2 in /usr/local/lib/python3.7/dist-packages (from tensorflow) (3.19.6)\n",
            "Requirement already satisfied: grpcio<2.0,>=1.24.3 in /usr/local/lib/python3.7/dist-packages (from tensorflow) (1.50.0)\n",
            "Requirement already satisfied: tensorflow-io-gcs-filesystem>=0.23.1 in /usr/local/lib/python3.7/dist-packages (from tensorflow) (0.27.0)\n",
            "Requirement already satisfied: numpy>=1.20 in /usr/local/lib/python3.7/dist-packages (from tensorflow) (1.21.6)\n",
            "Requirement already satisfied: wrapt>=1.11.0 in /usr/local/lib/python3.7/dist-packages (from tensorflow) (1.14.1)\n",
            "Requirement already satisfied: astunparse>=1.6.0 in /usr/local/lib/python3.7/dist-packages (from tensorflow) (1.6.3)\n",
            "Requirement already satisfied: keras<2.12,>=2.11.0 in /usr/local/lib/python3.7/dist-packages (from tensorflow) (2.11.0)\n",
            "Requirement already satisfied: tensorboard<2.12,>=2.11 in /usr/local/lib/python3.7/dist-packages (from tensorflow) (2.11.0)\n",
            "Requirement already satisfied: typing-extensions>=3.6.6 in /usr/local/lib/python3.7/dist-packages (from tensorflow) (4.1.1)\n",
            "Requirement already satisfied: wheel<1.0,>=0.23.0 in /usr/local/lib/python3.7/dist-packages (from astunparse>=1.6.0->tensorflow) (0.38.4)\n",
            "Requirement already satisfied: cached-property in /usr/local/lib/python3.7/dist-packages (from h5py>=2.9.0->tensorflow) (1.5.2)\n",
            "Requirement already satisfied: tensorboard-plugin-wit>=1.6.0 in /usr/local/lib/python3.7/dist-packages (from tensorboard<2.12,>=2.11->tensorflow) (1.8.1)\n",
            "Requirement already satisfied: requests<3,>=2.21.0 in /usr/local/lib/python3.7/dist-packages (from tensorboard<2.12,>=2.11->tensorflow) (2.23.0)\n",
            "Requirement already satisfied: tensorboard-data-server<0.7.0,>=0.6.0 in /usr/local/lib/python3.7/dist-packages (from tensorboard<2.12,>=2.11->tensorflow) (0.6.1)\n",
            "Requirement already satisfied: google-auth<3,>=1.6.3 in /usr/local/lib/python3.7/dist-packages (from tensorboard<2.12,>=2.11->tensorflow) (2.14.1)\n",
            "Requirement already satisfied: markdown>=2.6.8 in /usr/local/lib/python3.7/dist-packages (from tensorboard<2.12,>=2.11->tensorflow) (3.4.1)\n",
            "Requirement already satisfied: google-auth-oauthlib<0.5,>=0.4.1 in /usr/local/lib/python3.7/dist-packages (from tensorboard<2.12,>=2.11->tensorflow) (0.4.6)\n",
            "Requirement already satisfied: werkzeug>=1.0.1 in /usr/local/lib/python3.7/dist-packages (from tensorboard<2.12,>=2.11->tensorflow) (1.0.1)\n",
            "Requirement already satisfied: cachetools<6.0,>=2.0.0 in /usr/local/lib/python3.7/dist-packages (from google-auth<3,>=1.6.3->tensorboard<2.12,>=2.11->tensorflow) (5.2.0)\n",
            "Requirement already satisfied: pyasn1-modules>=0.2.1 in /usr/local/lib/python3.7/dist-packages (from google-auth<3,>=1.6.3->tensorboard<2.12,>=2.11->tensorflow) (0.2.8)\n",
            "Requirement already satisfied: rsa<5,>=3.1.4 in /usr/local/lib/python3.7/dist-packages (from google-auth<3,>=1.6.3->tensorboard<2.12,>=2.11->tensorflow) (4.9)\n",
            "Requirement already satisfied: requests-oauthlib>=0.7.0 in /usr/local/lib/python3.7/dist-packages (from google-auth-oauthlib<0.5,>=0.4.1->tensorboard<2.12,>=2.11->tensorflow) (1.3.1)\n",
            "Requirement already satisfied: importlib-metadata>=4.4 in /usr/local/lib/python3.7/dist-packages (from markdown>=2.6.8->tensorboard<2.12,>=2.11->tensorflow) (4.13.0)\n",
            "Requirement already satisfied: zipp>=0.5 in /usr/local/lib/python3.7/dist-packages (from importlib-metadata>=4.4->markdown>=2.6.8->tensorboard<2.12,>=2.11->tensorflow) (3.10.0)\n",
            "Requirement already satisfied: pyasn1<0.5.0,>=0.4.6 in /usr/local/lib/python3.7/dist-packages (from pyasn1-modules>=0.2.1->google-auth<3,>=1.6.3->tensorboard<2.12,>=2.11->tensorflow) (0.4.8)\n",
            "Requirement already satisfied: chardet<4,>=3.0.2 in /usr/local/lib/python3.7/dist-packages (from requests<3,>=2.21.0->tensorboard<2.12,>=2.11->tensorflow) (3.0.4)\n",
            "Requirement already satisfied: idna<3,>=2.5 in /usr/local/lib/python3.7/dist-packages (from requests<3,>=2.21.0->tensorboard<2.12,>=2.11->tensorflow) (2.10)\n",
            "Requirement already satisfied: urllib3!=1.25.0,!=1.25.1,<1.26,>=1.21.1 in /usr/local/lib/python3.7/dist-packages (from requests<3,>=2.21.0->tensorboard<2.12,>=2.11->tensorflow) (1.25.11)\n",
            "Requirement already satisfied: certifi>=2017.4.17 in /usr/local/lib/python3.7/dist-packages (from requests<3,>=2.21.0->tensorboard<2.12,>=2.11->tensorflow) (2022.9.24)\n",
            "Requirement already satisfied: oauthlib>=3.0.0 in /usr/local/lib/python3.7/dist-packages (from requests-oauthlib>=0.7.0->google-auth-oauthlib<0.5,>=0.4.1->tensorboard<2.12,>=2.11->tensorflow) (3.2.2)\n",
            "Requirement already satisfied: pyparsing!=3.0.5,>=2.0.2 in /usr/local/lib/python3.7/dist-packages (from packaging->tensorflow) (3.0.9)\n"
          ]
        }
      ]
    },
    {
      "cell_type": "code",
      "source": [
        "import nltk\n",
        "import time\n",
        "import re\n",
        "import os\n",
        "import warnings\n",
        "import numpy as np\n",
        "import pandas as pd\n",
        "import tensorflow as tf\n",
        "import matplotlib.pyplot as plt\n",
        "from tensorflow.keras.callbacks import ModelCheckpoint\n",
        "from tensorflow.keras.models import Sequential\n",
        "from tensorflow.keras.layers import Dense, Dropout\n",
        "from tensorflow.keras.optimizers import Adam\n",
        "from sklearn.feature_selection import mutual_info_classif\n",
        "from sklearn.feature_extraction.text import TfidfVectorizer\n",
        "from sklearn.linear_model import LogisticRegression\n",
        "from sklearn.naive_bayes import MultinomialNB\n",
        "from sklearn.decomposition import TruncatedSVD\n",
        "from sklearn.preprocessing import LabelBinarizer\n",
        "from sklearn.metrics import f1_score, recall_score, precision_score, classification_report, precision_recall_curve, auc, plot_confusion_matrix\n",
        "from datasets import load_dataset\n",
        "from nltk.stem import WordNetLemmatizer\n",
        "from nltk.corpus import stopwords\n",
        "from sklearn.dummy import DummyClassifier\n"
      ],
      "metadata": {
        "id": "8fMM8ezP71uZ"
      },
      "execution_count": null,
      "outputs": []
    },
    {
      "cell_type": "code",
      "source": [
        "!nvidia-smi"
      ],
      "metadata": {
        "colab": {
          "base_uri": "https://localhost:8080/"
        },
        "id": "zj-zJ24hZ_j5",
        "outputId": "36a70093-7e1f-4f52-dfa7-798118b094e9"
      },
      "execution_count": null,
      "outputs": [
        {
          "output_type": "stream",
          "name": "stdout",
          "text": [
            "Mon Nov 28 17:41:17 2022       \n",
            "+-----------------------------------------------------------------------------+\n",
            "| NVIDIA-SMI 460.32.03    Driver Version: 460.32.03    CUDA Version: 11.2     |\n",
            "|-------------------------------+----------------------+----------------------+\n",
            "| GPU  Name        Persistence-M| Bus-Id        Disp.A | Volatile Uncorr. ECC |\n",
            "| Fan  Temp  Perf  Pwr:Usage/Cap|         Memory-Usage | GPU-Util  Compute M. |\n",
            "|                               |                      |               MIG M. |\n",
            "|===============================+======================+======================|\n",
            "|   0  Tesla T4            Off  | 00000000:00:04.0 Off |                    0 |\n",
            "| N/A   72C    P0    31W /  70W |   4604MiB / 15109MiB |      0%      Default |\n",
            "|                               |                      |                  N/A |\n",
            "+-------------------------------+----------------------+----------------------+\n",
            "                                                                               \n",
            "+-----------------------------------------------------------------------------+\n",
            "| Processes:                                                                  |\n",
            "|  GPU   GI   CI        PID   Type   Process name                  GPU Memory |\n",
            "|        ID   ID                                                   Usage      |\n",
            "|=============================================================================|\n",
            "+-----------------------------------------------------------------------------+\n"
          ]
        }
      ]
    },
    {
      "cell_type": "code",
      "source": [
        "# --- Performs the desired preprocessing into the dataset. ---\n",
        "\n",
        "def preprocess_dataset(x):\n",
        "    stemmer = WordNetLemmatizer()\n",
        "    preprocessed_x = []\n",
        "    \n",
        "    for doc in x: \n",
        "        # Remove non-word (special) characters such as punctuation, numbers etc\n",
        "        document = re.sub(r'\\W', ' ', str(doc))\n",
        "\n",
        "        # Remove all single characters\n",
        "        document = re.sub(r'\\s+[a-zA-Z]\\s+', ' ', document)\n",
        "\n",
        "        # Substitute multiple spaces with single space\n",
        "        document = re.sub(r'\\s+', ' ', document, flags=re.I)\n",
        "\n",
        "        # Convert to Lowercase\n",
        "        document = document.lower()\n",
        "\n",
        "        # Split the document based on whitespaces (--> List of words)\n",
        "        document = document.split()\n",
        "\n",
        "        # Lemmatization\n",
        "        document = [stemmer.lemmatize(word) for word in document]\n",
        "\n",
        "        # Reconstruct the document by joining the words on each whitespace\n",
        "        document = ' '.join(document)\n",
        "\n",
        "        # Append all documents into a list 'docs'\n",
        "        preprocessed_x.append(document)\n",
        "        \n",
        "    return preprocessed_x"
      ],
      "metadata": {
        "id": "EB9G5X1ekej3"
      },
      "execution_count": null,
      "outputs": []
    },
    {
      "cell_type": "code",
      "source": [
        "# --- Edits the results dataframe, and brings it into the desired format. ---\n",
        "\n",
        "def edit_dataframe(df, area, set_):        \n",
        "    # Edit precision field\n",
        "    df['precision']['World'] = \"{:.2f}%\".format(df['precision']['World'] * 100)\n",
        "    df['precision']['Sports'] = \"{:.2f}%\".format(df['precision']['Sports'] * 100)\n",
        "    df['precision']['Business'] = \"{:.2f}%\".format(df['precision']['Business'] * 100)\n",
        "    df['precision']['Sci/Tech'] = \"{:.2f}%\".format(df['precision']['Sci/Tech'] * 100)\n",
        "    df['precision']['accuracy'] = \"-\"\n",
        "    df['precision']['macro avg'] = \"{:.2f}%\".format(df['precision']['macro avg'] * 100)\n",
        "    df['precision']['weighted avg'] = \"{:.2f}%\".format(df['precision']['weighted avg'] * 100)\n",
        "    \n",
        "    # Edit recall field\n",
        "    df['recall']['World'] = \"{:.2f}%\".format(df['recall']['World'] * 100)\n",
        "    df['recall']['Sports'] = \"{:.2f}%\".format(df['recall']['Sports'] * 100)\n",
        "    df['recall']['Business'] = \"{:.2f}%\".format(df['recall']['Business'] * 100)\n",
        "    df['recall']['Sci/Tech'] = \"{:.2f}%\".format(df['recall']['Sci/Tech'] * 100)\n",
        "    df['recall']['accuracy'] = \"-\"\n",
        "    df['recall']['macro avg'] = \"{:.2f}%\".format(df['recall']['macro avg'] * 100)\n",
        "    df['recall']['weighted avg'] = \"{:.2f}%\".format(df['recall']['weighted avg'] * 100)\n",
        "    \n",
        "    # Edit f1-score field\n",
        "    df['f1-score']['World'] = \"{:.2f}%\".format(df['f1-score']['World'] * 100)\n",
        "    df['f1-score']['Sports'] = \"{:.2f}%\".format(df['f1-score']['Sports'] * 100)\n",
        "    df['f1-score']['Business'] = \"{:.2f}%\".format(df['f1-score']['Business'] * 100)\n",
        "    df['f1-score']['Sci/Tech'] = \"{:.2f}%\".format(df['f1-score']['Sci/Tech'] * 100)\n",
        "    df['f1-score']['accuracy'] = \"-\"\n",
        "    df['f1-score']['macro avg'] = \"{:.2f}%\".format(df['f1-score']['macro avg'] * 100)\n",
        "    df['f1-score']['weighted avg'] = \"{:.2f}%\".format(df['f1-score']['weighted avg'] * 100)\n",
        "\n",
        "\n",
        "    df.insert(3, \"P-R-AUC\", [\"{:.2f}%\".format(area['micro-World'] * 100), \"{:.2f}%\".format(area['micro-Sports'] * 100), \"{:.2f}%\".format(area['micro-Business'] * 100), \"{:.2f}%\".format(area['micro-Sci/Tech'] * 100), \"-\", \"-\", \"-\"], True)\n",
        "    \n",
        "    # Edit support field\n",
        "    df['support'] = df['support'].astype(int)\n",
        "    \n",
        "    # Rename the columns\n",
        "    df = df.rename(columns={'support': 'Number of instances'})\n",
        "    df = df.rename(columns={'precision': 'Precision'})\n",
        "    df = df.rename(columns={'recall': 'Recall'})\n",
        "    df = df.rename(columns={'f1-score': 'F1-score'})\n",
        "    \n",
        "    # Rename the indexes (rows)\n",
        "    df = df.rename(index={'accuracy': 'Accuracy'})\n",
        "    df = df.rename(index={'macro avg': 'Macro averaged'})\n",
        "    df = df.rename(index={'weighted avg': 'Weighted averaged'})\n",
        "    \n",
        "    # Finally, add a fancy title to our dataframe\n",
        "    df = df.style.set_caption(\"Results occured across \" + set_ + \" data\")\n",
        "\n",
        "    # Return the new dataframe\n",
        "    return df"
      ],
      "metadata": {
        "id": "ExS6LgcsEh_g"
      },
      "execution_count": null,
      "outputs": []
    },
    {
      "cell_type": "code",
      "source": [
        "# Hide all warnings\n",
        "warnings.filterwarnings('ignore')\n",
        "\n",
        "# Install required packages\n",
        "nltk.download('wordnet')\n",
        "nltk.download('stopwords')"
      ],
      "metadata": {
        "colab": {
          "base_uri": "https://localhost:8080/"
        },
        "id": "5UhvgwOC7txd",
        "outputId": "d5a60a09-1de3-421c-edb4-b6b1a62d2a1e"
      },
      "execution_count": null,
      "outputs": [
        {
          "output_type": "stream",
          "name": "stderr",
          "text": [
            "[nltk_data] Downloading package wordnet to /root/nltk_data...\n",
            "[nltk_data]   Package wordnet is already up-to-date!\n",
            "[nltk_data] Downloading package stopwords to /root/nltk_data...\n",
            "[nltk_data]   Package stopwords is already up-to-date!\n"
          ]
        },
        {
          "output_type": "execute_result",
          "data": {
            "text/plain": [
              "True"
            ]
          },
          "metadata": {},
          "execution_count": 40
        }
      ]
    },
    {
      "cell_type": "code",
      "source": [
        "# Load the dataset from the hugging face. For more information, please visit: https://huggingface.co/datasets/ag_news\n",
        "dataset = load_dataset(\"ag_news\")"
      ],
      "metadata": {
        "colab": {
          "base_uri": "https://localhost:8080/",
          "height": 66,
          "referenced_widgets": [
            "80f0945ed9bb49419c74400321e5157f",
            "da126f712ef34a2ea066a714527b5e2e",
            "3d38dcf6608343b09d452d1556668ffb",
            "0481140a9d1e410a86f869928822fbae",
            "31bae63454a74283bb248a2c3efff5a9",
            "16d6c8bdb8fe4a4186b692bb453cf035",
            "7a087704df944e7c9c0bf4c9c800cc4d",
            "196c96b5e2c7440c8ac129011be35056",
            "8844c7b85c424714b8ba462531647e40",
            "9647057d60bf40a197a6ccfeafe23e7c",
            "e3ced281ca2b444096868c86c2950f66"
          ]
        },
        "id": "F8fE2vUz7EPY",
        "outputId": "04d85e12-6094-436d-9d94-5fee06ea5d56"
      },
      "execution_count": null,
      "outputs": [
        {
          "output_type": "stream",
          "name": "stderr",
          "text": [
            "WARNING:datasets.builder:Found cached dataset ag_news (/root/.cache/huggingface/datasets/ag_news/default/0.0.0/bc2bcb40336ace1a0374767fc29bb0296cdaf8a6da7298436239c54d79180548)\n"
          ]
        },
        {
          "output_type": "display_data",
          "data": {
            "text/plain": [
              "  0%|          | 0/2 [00:00<?, ?it/s]"
            ],
            "application/vnd.jupyter.widget-view+json": {
              "version_major": 2,
              "version_minor": 0,
              "model_id": "80f0945ed9bb49419c74400321e5157f"
            }
          },
          "metadata": {}
        }
      ]
    },
    {
      "cell_type": "markdown",
      "metadata": {
        "id": "JwuTj8K4jMoU"
      },
      "source": [
        "# ***Split the dataset into train, dev, test subsets.***"
      ]
    },
    {
      "cell_type": "code",
      "source": [
        "# Instance numbers\n",
        "NUMBER_OF_TRAIN_INSTANCES_TO_KEEP = 76560\n",
        "NUMBER_OF_DEV_INSTANCES_TO_KEEP = 40520\n",
        "NUMBER_OF_TEST_INSTANCES_TO_KEEP = 10520"
      ],
      "metadata": {
        "id": "ca9UKk7O7HAD"
      },
      "execution_count": null,
      "outputs": []
    },
    {
      "cell_type": "code",
      "source": [
        "# Number of best TF-IDF features to keep\n",
        "NUMBER_OF_FEATURES_TO_KEEP = 500"
      ],
      "metadata": {
        "id": "bOgJZMAL7SAi"
      },
      "execution_count": null,
      "outputs": []
    },
    {
      "cell_type": "code",
      "source": [
        "# --- First, move the texts into lists ---\n",
        "\n",
        "train_x = []\n",
        "train_y = []\n",
        "\n",
        "dev_x = []\n",
        "dev_y = []\n",
        "\n",
        "test_x = []\n",
        "test_y = []\n",
        "\n",
        "for x in range(0, NUMBER_OF_TRAIN_INSTANCES_TO_KEEP):\n",
        "    train_x.append(dataset['train'][x]['text'])\n",
        "    train_y.append(dataset['train'][x]['label'])\n",
        "    \n",
        "for x in range(NUMBER_OF_TRAIN_INSTANCES_TO_KEEP, NUMBER_OF_TRAIN_INSTANCES_TO_KEEP + NUMBER_OF_DEV_INSTANCES_TO_KEEP):\n",
        "    dev_x.append(dataset['train'][x]['text'])\n",
        "    dev_y.append(dataset['train'][x]['label'])\n",
        "    \n",
        "for x in range(0, dataset['test'].num_rows):\n",
        "    test_x.append(dataset['test'][x]['text'])\n",
        "    test_y.append(dataset['test'][x]['label'])"
      ],
      "metadata": {
        "id": "CNVV98WP7VzI"
      },
      "execution_count": null,
      "outputs": []
    },
    {
      "cell_type": "code",
      "source": [
        "import random\n",
        "# Let's showcase some random movie_reviews from the three subsets\n",
        "rand1 = random.randrange(len(train_x))\n",
        "rand2 = random.randrange(len(dev_x))\t\n",
        "rand3 = random.randrange(len(test_x))\t\n",
        "\n",
        "print(\"Random train tweet:\\n{}\".format(train_x[rand1]))\n",
        "print(\"Random train tweet label:\\n{}\".format(train_y[rand1]))\n",
        "print(\"-------------------------------------------------------\")\n",
        "print(\"Random dev tweet:\\n{}\".format(dev_x[rand2]))\n",
        "print(\"Random dev tweet label:\\n{}\".format(dev_y[rand2]))\n",
        "print(\"-------------------------------------------------------\")\n",
        "print(\"Random test tweet:\\n{}\".format(test_x[rand3]))\n",
        "print(\"Random test tweet label:\\n{}\".format(test_y[rand3]))\n",
        "\n",
        "# And let's also take a look on the subsets' length\n",
        "print(\"\\nTrain data length: {}\".format(len(train_x)))\n",
        "print(\"Dev data length: {}\".format(len(dev_x)))\n",
        "print(\"Test data length: {}\".format(len(test_x)))"
      ],
      "metadata": {
        "id": "hDs2YSFabWAY",
        "colab": {
          "base_uri": "https://localhost:8080/"
        },
        "outputId": "8288907f-2cc5-4808-8d78-d5b44a72ff91"
      },
      "execution_count": null,
      "outputs": [
        {
          "output_type": "stream",
          "name": "stdout",
          "text": [
            "Random train tweet:\n",
            "Federer and Roddick through Top seed Roger Federer reached the Thailand Open semis with a 7-6 (7/3) 6-4 win over Robin Soderling of Sweden. Second seed Andy Roddick also stormed through, beating Thomas Johansson of Sweden 6-3 6-4 in just 43 minutes.\n",
            "Random train tweet label:\n",
            "1\n",
            "-------------------------------------------------------\n",
            "Random dev tweet:\n",
            "RUSSIA * ECONOMY * OIL * AUCTION MOSCOW, November 30 (RIA Novosti) - Gazprom will bid in the Yuganskneftegaz auction, Gazpromneft chief executive officer (CEO) Sergei Bogdanchikov told the Russian Gas-2004 second international forum Tuesday.\n",
            "Random dev tweet label:\n",
            "2\n",
            "-------------------------------------------------------\n",
            "Random test tweet:\n",
            "Everyone wants a piece of Orton Every sports collectible dealer knows the key to profit is getting in early. And the hounds are suddenly on the scent of Kyle Orton.\n",
            "Random test tweet label:\n",
            "1\n",
            "\n",
            "Train data length: 76560\n",
            "Dev data length: 40520\n",
            "Test data length: 7600\n"
          ]
        }
      ]
    },
    {
      "cell_type": "code",
      "source": [
        "import nltk\n",
        "nltk.download('omw-1.4')"
      ],
      "metadata": {
        "id": "RqG-x7CZICBk",
        "colab": {
          "base_uri": "https://localhost:8080/"
        },
        "outputId": "be14fc17-14df-4298-93d7-e26606c5f596"
      },
      "execution_count": null,
      "outputs": [
        {
          "output_type": "stream",
          "name": "stderr",
          "text": [
            "[nltk_data] Downloading package omw-1.4 to /root/nltk_data...\n",
            "[nltk_data]   Package omw-1.4 is already up-to-date!\n"
          ]
        },
        {
          "output_type": "execute_result",
          "data": {
            "text/plain": [
              "True"
            ]
          },
          "metadata": {},
          "execution_count": 46
        }
      ]
    },
    {
      "cell_type": "code",
      "source": [
        "# Preprocess all the sets\n",
        "train_x_preprocessed = preprocess_dataset(train_x)\n",
        "dev_x_preprocessed = preprocess_dataset(dev_x)\n",
        "test_x_preprocessed = preprocess_dataset(test_x)"
      ],
      "metadata": {
        "id": "vMnU7nl07zM4"
      },
      "execution_count": null,
      "outputs": []
    },
    {
      "cell_type": "code",
      "source": [
        "# Let's see an overview of the filtered dataset. \n",
        "\n",
        "print(\"\\nOriginal review text:\\n{}\".format(train_x[0]))       # First print the original form of a random review\n",
        "print(\"\\nFiltered review text:\\n{}\".format(train_x_preprocessed[0]))  # Then the filtered version after the text pre-processing loop\n",
        "print(\"\\nLabel:\\n\", train_y[0])   "
      ],
      "metadata": {
        "id": "PgnrJc5s8FjX",
        "colab": {
          "base_uri": "https://localhost:8080/"
        },
        "outputId": "8f48ee5b-21ce-4bfd-fe19-e44456926a71"
      },
      "execution_count": null,
      "outputs": [
        {
          "output_type": "stream",
          "name": "stdout",
          "text": [
            "\n",
            "Original review text:\n",
            "Wall St. Bears Claw Back Into the Black (Reuters) Reuters - Short-sellers, Wall Street's dwindling\\band of ultra-cynics, are seeing green again.\n",
            "\n",
            "Filtered review text:\n",
            "wall st bear claw back into the black reuters reuters short seller wall street dwindling band of ultra cynic are seeing green again\n",
            "\n",
            "Label:\n",
            " 2\n"
          ]
        }
      ]
    },
    {
      "cell_type": "markdown",
      "metadata": {
        "id": "OOODeUZwuOS4"
      },
      "source": [
        "# ***Feature Extraction***"
      ]
    },
    {
      "cell_type": "markdown",
      "metadata": {
        "id": "QtPlDyv9vPDs"
      },
      "source": [
        "***1. Boolean vector***"
      ]
    },
    {
      "cell_type": "code",
      "execution_count": null,
      "metadata": {
        "id": "rouW0evxptay"
      },
      "outputs": [],
      "source": [
        "from sklearn.feature_extraction.text import CountVectorizer, TfidfVectorizer\n",
        "\n",
        "# --- First feature extraction ---\n",
        "# Boolean vector, i.e. a sparse vector of length equal to the different unigrams of the dataset, containing 1's and 0's.\n",
        "\n",
        "vectorizer = CountVectorizer(analyzer='word', ngram_range=(1, 1), binary = True, stop_words = stopwords.words('english')) #define the vectorizer...\n",
        "\n",
        "train_boolean_vector = vectorizer.fit_transform(train_x_preprocessed)  # Train the vectorizer on the train data\n",
        "val_boolean_vector = vectorizer.transform(dev_x_preprocessed)          # And apply the changes on the dev...\n",
        "test_boolean_vector = vectorizer.transform(test_x_preprocessed)        # And the test data\n",
        "\n",
        "vectorizer.get_feature_names_out()                        # Print the features...\n",
        "\n",
        "# Initialize our vocabulary with 50 random boolean features\n",
        "vocabulary = random.sample(vectorizer.get_feature_names(), 50)"
      ]
    },
    {
      "cell_type": "code",
      "source": [
        "# Print the shapes\n",
        "print(train_boolean_vector.shape)\n",
        "print(val_boolean_vector.shape)\n",
        "print(test_boolean_vector.shape)"
      ],
      "metadata": {
        "id": "pFkqwvKHja_z",
        "colab": {
          "base_uri": "https://localhost:8080/"
        },
        "outputId": "50588496-9ad9-4b2c-9350-1002369a002b"
      },
      "execution_count": null,
      "outputs": [
        {
          "output_type": "stream",
          "name": "stdout",
          "text": [
            "(76560, 47628)\n",
            "(40520, 47628)\n",
            "(7600, 47628)\n"
          ]
        }
      ]
    },
    {
      "cell_type": "markdown",
      "metadata": {
        "id": "ACMNeSyC2nJc"
      },
      "source": [
        "***2. TF-IDF vector***"
      ]
    },
    {
      "cell_type": "code",
      "source": [
        "# --- Second feature extraction --- \n",
        "# TF-IDF vector, containing the max_features = 8000 best unigrams/bigrams in terms of TF-ID values\n",
        "\n",
        "# Use unigram & bi-gram TF-IDF features\n",
        "tf_idf_vectorizer = TfidfVectorizer(\n",
        "    ngram_range = (1, 2), \n",
        "    max_features = 5000,\n",
        "    # Apply sublinear tf scaling, i.e. replace tf with 1 + log(tf).\n",
        "    sublinear_tf = True, \n",
        "    stop_words = stopwords.words('english'))\n",
        "\n",
        "# Fit Vectorizer on train data\n",
        "# Transform on all data (train - test)\n",
        "x_train_tfidf = tf_idf_vectorizer.fit_transform(train_x_preprocessed)\n",
        "x_val_tfidf = tf_idf_vectorizer.transform(dev_x_preprocessed)\n",
        "x_test_tfidf = tf_idf_vectorizer.transform(test_x_preprocessed)"
      ],
      "metadata": {
        "id": "rroB2WMLjeuX"
      },
      "execution_count": null,
      "outputs": []
    },
    {
      "cell_type": "code",
      "source": [
        "# Let's observe the size transformation\n",
        "print('Shape of training data after TF-IDF feature extraction: {}'.format(x_train_tfidf.shape))\n",
        "print('Shape of development data after TF-IDF feature extraction: {}'.format(x_val_tfidf.shape))\n",
        "print('Shape of test data after TF-IDF feature extraction: {}\\n'.format(x_test_tfidf.shape))\n",
        "\n",
        "print(x_test_tfidf[0, :])  # Sparce matrix --> Saves only the cells which are not zero"
      ],
      "metadata": {
        "id": "1cEBFTaJjh31",
        "colab": {
          "base_uri": "https://localhost:8080/"
        },
        "outputId": "6ad29e66-2153-4e90-ce7e-0747d67dd833"
      },
      "execution_count": null,
      "outputs": [
        {
          "output_type": "stream",
          "name": "stdout",
          "text": [
            "Shape of training data after TF-IDF feature extraction: (76560, 5000)\n",
            "Shape of development data after TF-IDF feature extraction: (40520, 5000)\n",
            "Shape of test data after TF-IDF feature extraction: (7600, 5000)\n",
            "\n",
            "  (0, 4916)\t0.3091363028297261\n",
            "  (0, 4671)\t0.2888520331326815\n",
            "  (0, 4417)\t0.46623502828625596\n",
            "  (0, 3862)\t0.21515149311723966\n",
            "  (0, 3218)\t0.39207022291325383\n",
            "  (0, 3172)\t0.3780108884567349\n",
            "  (0, 1694)\t0.2802366365890607\n",
            "  (0, 1632)\t0.2752257223722225\n",
            "  (0, 1628)\t0.3262528473547184\n"
          ]
        }
      ]
    },
    {
      "cell_type": "markdown",
      "metadata": {
        "id": "orgz5vqv9PvN"
      },
      "source": [
        "# ***Dimensionality Reduction***"
      ]
    },
    {
      "cell_type": "markdown",
      "metadata": {
        "id": "RVi-9AqE9Yp3"
      },
      "source": [
        "***1. Truncated SVD***"
      ]
    },
    {
      "cell_type": "code",
      "source": [
        "# Dimensionality Reduction using SVD\n",
        "# Using n_components = 500.\n",
        "\n",
        "svd = TruncatedSVD(n_components=NUMBER_OF_FEATURES_TO_KEEP, random_state=2022)\n",
        "\n",
        "x_train_svd = svd.fit_transform(x_train_tfidf)\n",
        "x_dev_svd = svd.transform(x_val_tfidf)\n",
        "x_test_svd = svd.transform(x_test_tfidf)"
      ],
      "metadata": {
        "id": "CrFHxarTm1CI"
      },
      "execution_count": null,
      "outputs": []
    },
    {
      "cell_type": "markdown",
      "source": [
        "# ***Baselines***"
      ],
      "metadata": {
        "id": "f4OQ3vSsnEZ6"
      }
    },
    {
      "cell_type": "markdown",
      "source": [
        "**Convert labels to 1-hot vectors**"
      ],
      "metadata": {
        "id": "073YkZbxsHf4"
      }
    },
    {
      "cell_type": "code",
      "source": [
        "from sklearn.preprocessing import label_binarize\n",
        "\n",
        "y_train_1_hot = label_binarize(train_y, classes=np.arange(4))\n",
        "y_val_1_hot = label_binarize(dev_y, classes=np.arange(4))\n",
        "y_test_1_hot = label_binarize(test_y, classes=np.arange(4))\n",
        "\n",
        "print('y_train_1_hot[0]: {}'.format(y_train_1_hot[0]))\n",
        "print('y_val_1_hot[0]: {}'.format(y_val_1_hot[0]))\n",
        "print('y_train_1_hot[0]: {}'.format(y_test_1_hot[0]))"
      ],
      "metadata": {
        "id": "Kwm1V6ZcsJDI",
        "colab": {
          "base_uri": "https://localhost:8080/"
        },
        "outputId": "ea6f8929-25b0-4bf2-d0e0-5362ce7c8c06"
      },
      "execution_count": null,
      "outputs": [
        {
          "output_type": "stream",
          "name": "stdout",
          "text": [
            "y_train_1_hot[0]: [0 0 1 0]\n",
            "y_val_1_hot[0]: [0 1 0 0]\n",
            "y_train_1_hot[0]: [0 0 1 0]\n"
          ]
        }
      ]
    },
    {
      "cell_type": "code",
      "source": [
        "target_list = [\"World\", \"Sports\", \"Business\", \"Sci/Tech\"]"
      ],
      "metadata": {
        "id": "RB06OtruBC-G"
      },
      "execution_count": null,
      "outputs": []
    },
    {
      "cell_type": "markdown",
      "source": [
        "**Dummy (Majority) Classifier**"
      ],
      "metadata": {
        "id": "HzkAVX_lnPtl"
      }
    },
    {
      "cell_type": "code",
      "source": [
        "# --------------------- (1) Baseline: Dummy Classifier ---------------------\n",
        "\n",
        "# Train the dummy classifier who always predicts the 'most frequent' class\n",
        "baseline = DummyClassifier(strategy='most_frequent')\n",
        "dummy_start_time = time.time()\n",
        "baseline.fit(x_train_tfidf, train_y)\n",
        "dummy_end_time = time.time()\n",
        "\n",
        "\n",
        "# Plot the confussion matrix for the test data\n",
        "print(\"\\nConfusion Matrix for test data:\")\n",
        "plot_confusion_matrix(estimator=baseline, X=x_test_tfidf, y_true = test_y, values_format = '.0f')"
      ],
      "metadata": {
        "id": "Un10xNHAnPDr",
        "colab": {
          "base_uri": "https://localhost:8080/",
          "height": 545
        },
        "outputId": "ea452a8d-e25c-4e34-89b7-1c55671858fb"
      },
      "execution_count": null,
      "outputs": [
        {
          "output_type": "stream",
          "name": "stdout",
          "text": [
            "\n",
            "Confusion Matrix for test data:\n"
          ]
        },
        {
          "output_type": "execute_result",
          "data": {
            "text/plain": [
              "<sklearn.metrics._plot.confusion_matrix.ConfusionMatrixDisplay at 0x7fc40d0c35d0>"
            ]
          },
          "metadata": {},
          "execution_count": 56
        },
        {
          "output_type": "display_data",
          "data": {
            "text/plain": [
              "<Figure size 1080x576 with 2 Axes>"
            ],
            "image/png": "[encoded data removed]"
          },
          "metadata": {}
        }
      ]
    },
    {
      "cell_type": "code",
      "source": [
        "from sklearn.metrics import precision_recall_curve\n",
        "from sklearn.metrics import average_precision_score\n",
        "from sklearn.metrics import auc, roc_auc_score\n",
        "# --------------------- (2) Logistic Regression ---------------------\n",
        "\n",
        "# Train\n",
        "clf = LogisticRegression(solver=\"liblinear\")\n",
        "start_time_lr = time.time()\n",
        "clf.fit(x_train_tfidf, train_y)\n",
        "end_time_lr = time.time()\n",
        "\n",
        "#Evaluate\n",
        "predictions = clf.predict(x_train_tfidf)\n",
        "\n",
        "micro_f1_score_train = f1_score(train_y, predictions, average='micro')\n",
        "macro_f1_score_train = f1_score(train_y, predictions, average='macro')\n",
        "print(\"Train micro f1-score: {:.2f}%\".format(micro_f1_score_train*100))\n",
        "print(\"Train macro f1-score: {:.2f}% \\n\".format(macro_f1_score_train*100))\n",
        "\n",
        "\n",
        "predictions_dev = clf.predict(x_val_tfidf)\n",
        "micro_f1_score_dev = f1_score(dev_y, predictions_dev, average='micro')\n",
        "macro_f1_score_dev = f1_score(dev_y, predictions_dev, average='macro')\n",
        "print(\"Val micro f1-score: {:.2f}%\".format(micro_f1_score_dev*100))\n",
        "print(\"Val macro f1-score: {:.2f}% \\n\".format(macro_f1_score_dev*100))\n",
        "\n",
        "predictions_test = clf.predict(x_test_tfidf)\n",
        "micro_f1_score_test = f1_score(test_y, predictions_test, average='micro')\n",
        "macro_f1_score_test = f1_score(test_y, predictions_test, average='macro')\n",
        "print(\"Test micro f1-score: {:.2f}%\".format(micro_f1_score_test*100))\n",
        "print(\"Test macro f1-score: {:.2f}% \\n\".format(macro_f1_score_test*100))\n",
        "\n",
        "# Plot the confussion matrix for the dev data\n",
        "print(\"\\nConfusion Matrix for dev data:\")\n",
        "plot_confusion_matrix(estimator=clf, X=x_val_tfidf, y_true=dev_y, values_format = '.0f')\n",
        "report_lr_dev = classification_report(dev_y, predictions_dev, target_names=target_list, output_dict=True)\n",
        "\n",
        "pred = clf.predict_proba(x_val_tfidf)\n",
        "# For each class\n",
        "precision = dict()\n",
        "recall = dict()\n",
        "average_precision = dict()\n",
        "area = dict()\n",
        "for i in range(4):\n",
        "    precision[i], recall[i], _ = precision_recall_curve(y_val_1_hot[:, i], pred[:, i])\n",
        "    average_precision[i] = average_precision_score(y_val_1_hot[:, i], pred[:, i])\n",
        "    # A \"micro-average\": quantifying score on each class\n",
        "    category = \"micro-\" + target_list[i]\n",
        "    precision[category], recall[category], _ = precision_recall_curve(\n",
        "    y_val_1_hot[:, i], pred[:, i])\n",
        "    area[category] = auc(recall[category], precision[category])\n",
        "\n",
        "# A \"micro-average\": quantifying score on all classes jointly\n",
        "precision[\"micro\"], recall[\"micro\"], _ = precision_recall_curve(\n",
        "    y_val_1_hot.ravel(), pred.ravel()\n",
        ")\n",
        "area_all = auc(recall['micro'], precision['micro'])\n",
        "# Display the results: Train\n",
        "edit_dataframe(pd.DataFrame(report_lr_dev).transpose(), area, 'dev')"
      ],
      "metadata": {
        "id": "Ew5A82vXoN5s",
        "colab": {
          "base_uri": "https://localhost:8080/",
          "height": 953
        },
        "outputId": "b1cdc8b0-bf00-4eb6-a9e3-368e8c72b69c"
      },
      "execution_count": null,
      "outputs": [
        {
          "output_type": "stream",
          "name": "stdout",
          "text": [
            "Train micro f1-score: 92.07%\n",
            "Train macro f1-score: 92.06% \n",
            "\n",
            "Val micro f1-score: 90.20%\n",
            "Val macro f1-score: 90.13% \n",
            "\n",
            "Test micro f1-score: 90.20%\n",
            "Test macro f1-score: 90.17% \n",
            "\n",
            "\n",
            "Confusion Matrix for dev data:\n"
          ]
        },
        {
          "output_type": "execute_result",
          "data": {
            "text/plain": [
              "<pandas.io.formats.style.Styler at 0x7fc40a80fd90>"
            ],
            "text/html": [
              "<style type=\"text/css\">\n",
              "</style>\n",
              "<table id=\"T_b71eb_\" class=\"dataframe\">\n",
              "  <caption>Results occured across dev data</caption>\n",
              "  <thead>\n",
              "    <tr>\n",
              "      <th class=\"blank level0\" >&nbsp;</th>\n",
              "      <th class=\"col_heading level0 col0\" >Precision</th>\n",
              "      <th class=\"col_heading level0 col1\" >Recall</th>\n",
              "      <th class=\"col_heading level0 col2\" >F1-score</th>\n",
              "      <th class=\"col_heading level0 col3\" >P-R-AUC</th>\n",
              "      <th class=\"col_heading level0 col4\" >Number of instances</th>\n",
              "    </tr>\n",
              "  </thead>\n",
              "  <tbody>\n",
              "    <tr>\n",
              "      <th id=\"T_b71eb_level0_row0\" class=\"row_heading level0 row0\" >World</th>\n",
              "      <td id=\"T_b71eb_row0_col0\" class=\"data row0 col0\" >90.62%</td>\n",
              "      <td id=\"T_b71eb_row0_col1\" class=\"data row0 col1\" >90.46%</td>\n",
              "      <td id=\"T_b71eb_row0_col2\" class=\"data row0 col2\" >90.54%</td>\n",
              "      <td id=\"T_b71eb_row0_col3\" class=\"data row0 col3\" >96.24%</td>\n",
              "      <td id=\"T_b71eb_row0_col4\" class=\"data row0 col4\" >9682</td>\n",
              "    </tr>\n",
              "    <tr>\n",
              "      <th id=\"T_b71eb_level0_row1\" class=\"row_heading level0 row1\" >Sports</th>\n",
              "      <td id=\"T_b71eb_row1_col0\" class=\"data row1 col0\" >95.03%</td>\n",
              "      <td id=\"T_b71eb_row1_col1\" class=\"data row1 col1\" >97.06%</td>\n",
              "      <td id=\"T_b71eb_row1_col2\" class=\"data row1 col2\" >96.03%</td>\n",
              "      <td id=\"T_b71eb_row1_col3\" class=\"data row1 col3\" >98.78%</td>\n",
              "      <td id=\"T_b71eb_row1_col4\" class=\"data row1 col4\" >10491</td>\n",
              "    </tr>\n",
              "    <tr>\n",
              "      <th id=\"T_b71eb_level0_row2\" class=\"row_heading level0 row2\" >Business</th>\n",
              "      <td id=\"T_b71eb_row2_col0\" class=\"data row2 col0\" >89.50%</td>\n",
              "      <td id=\"T_b71eb_row2_col1\" class=\"data row2 col1\" >83.76%</td>\n",
              "      <td id=\"T_b71eb_row2_col2\" class=\"data row2 col2\" >86.54%</td>\n",
              "      <td id=\"T_b71eb_row2_col3\" class=\"data row2 col3\" >93.90%</td>\n",
              "      <td id=\"T_b71eb_row2_col4\" class=\"data row2 col4\" >10439</td>\n",
              "    </tr>\n",
              "    <tr>\n",
              "      <th id=\"T_b71eb_level0_row3\" class=\"row_heading level0 row3\" >Sci/Tech</th>\n",
              "      <td id=\"T_b71eb_row3_col0\" class=\"data row3 col0\" >85.48%</td>\n",
              "      <td id=\"T_b71eb_row3_col1\" class=\"data row3 col1\" >89.45%</td>\n",
              "      <td id=\"T_b71eb_row3_col2\" class=\"data row3 col2\" >87.42%</td>\n",
              "      <td id=\"T_b71eb_row3_col3\" class=\"data row3 col3\" >93.30%</td>\n",
              "      <td id=\"T_b71eb_row3_col4\" class=\"data row3 col4\" >9908</td>\n",
              "    </tr>\n",
              "    <tr>\n",
              "      <th id=\"T_b71eb_level0_row4\" class=\"row_heading level0 row4\" >Accuracy</th>\n",
              "      <td id=\"T_b71eb_row4_col0\" class=\"data row4 col0\" >-</td>\n",
              "      <td id=\"T_b71eb_row4_col1\" class=\"data row4 col1\" >-</td>\n",
              "      <td id=\"T_b71eb_row4_col2\" class=\"data row4 col2\" >-</td>\n",
              "      <td id=\"T_b71eb_row4_col3\" class=\"data row4 col3\" >-</td>\n",
              "      <td id=\"T_b71eb_row4_col4\" class=\"data row4 col4\" >0</td>\n",
              "    </tr>\n",
              "    <tr>\n",
              "      <th id=\"T_b71eb_level0_row5\" class=\"row_heading level0 row5\" >Macro averaged</th>\n",
              "      <td id=\"T_b71eb_row5_col0\" class=\"data row5 col0\" >90.15%</td>\n",
              "      <td id=\"T_b71eb_row5_col1\" class=\"data row5 col1\" >90.18%</td>\n",
              "      <td id=\"T_b71eb_row5_col2\" class=\"data row5 col2\" >90.13%</td>\n",
              "      <td id=\"T_b71eb_row5_col3\" class=\"data row5 col3\" >-</td>\n",
              "      <td id=\"T_b71eb_row5_col4\" class=\"data row5 col4\" >40520</td>\n",
              "    </tr>\n",
              "    <tr>\n",
              "      <th id=\"T_b71eb_level0_row6\" class=\"row_heading level0 row6\" >Weighted averaged</th>\n",
              "      <td id=\"T_b71eb_row6_col0\" class=\"data row6 col0\" >90.21%</td>\n",
              "      <td id=\"T_b71eb_row6_col1\" class=\"data row6 col1\" >90.20%</td>\n",
              "      <td id=\"T_b71eb_row6_col2\" class=\"data row6 col2\" >90.17%</td>\n",
              "      <td id=\"T_b71eb_row6_col3\" class=\"data row6 col3\" >-</td>\n",
              "      <td id=\"T_b71eb_row6_col4\" class=\"data row6 col4\" >40520</td>\n",
              "    </tr>\n",
              "  </tbody>\n",
              "</table>\n"
            ]
          },
          "metadata": {},
          "execution_count": 57
        },
        {
          "output_type": "display_data",
          "data": {
            "text/plain": [
              "<Figure size 1080x576 with 2 Axes>"
            ],
            "image/png": "[encoded data removed]"
          },
          "metadata": {}
        }
      ]
    },
    {
      "cell_type": "markdown",
      "source": [
        "**Custom Keras callback for calculating f1, precision, recall at the end of each epoch**"
      ],
      "metadata": {
        "id": "GZWTKMbXrhMX"
      }
    },
    {
      "cell_type": "code",
      "source": [
        "# --- Customly defined metrics class. ---\n",
        "\n",
        "class Metrics(tf.keras.callbacks.Callback):\n",
        "    def __init__(self, valid_data):\n",
        "        super(Metrics, self).__init__()\n",
        "        self.validation_data = valid_data\n",
        "\n",
        "    def on_epoch_end(self, epoch, logs=None):\n",
        "        logs = logs or {}\n",
        "        val_predict = np.argmax(self.model.predict(self.validation_data[0]), -1)\n",
        "        val_targ = self.validation_data[1]\n",
        "        \n",
        "        if len(val_targ.shape) == 2 and val_targ.shape[1] != 1:\n",
        "            val_targ = np.argmax(val_targ, -1)\n",
        "        val_targ = tf.cast(val_targ,dtype=tf.float32)\n",
        "        \n",
        "        _val_f1 = f1_score(val_targ, val_predict,average=\"weighted\")\n",
        "        _val_recall = recall_score(val_targ, val_predict,average=\"weighted\")\n",
        "        _val_precision = precision_score(val_targ, val_predict,average=\"weighted\")\n",
        "\n",
        "        logs['val_f1'] = _val_f1\n",
        "        logs['val_recall'] = _val_recall\n",
        "        logs['val_precision'] = _val_precision\n",
        "        print(\" — val_f1: %f — val_precision: %f — val_recall: %f\" % (_val_f1, _val_precision, _val_recall))\n",
        "        return"
      ],
      "metadata": {
        "id": "aijkz-5LrjKT"
      },
      "execution_count": null,
      "outputs": []
    },
    {
      "cell_type": "markdown",
      "source": [
        "**MLP classifier in Keras using tf*idf features**"
      ],
      "metadata": {
        "id": "pRZF-gZTtEI5"
      }
    },
    {
      "cell_type": "code",
      "source": [
        "import time\n",
        "import os\n",
        "os.environ['TF_CPP_MIN_LOG_LEVEL'] = '3'\n",
        "import tensorflow as tf\n",
        "from tensorflow.keras.callbacks import ModelCheckpoint, EarlyStopping\n",
        "from tensorflow.keras.models import Sequential\n",
        "from tensorflow.keras.layers import Dense, Dropout, BatchNormalization\n",
        "from tensorflow.keras.optimizers import Adam\n",
        "\n",
        "with tf.device('/device:GPU:0'):\n",
        "\n",
        "  model = Sequential()\n",
        "  model.add(Dense(1024, input_dim=x_train_svd.shape[1], activation = 'relu'))\n",
        "  model.add(BatchNormalization())\n",
        "  model.add(Dropout(0.5))\n",
        "  model.add(Dense(512, activation='relu'))\n",
        "  model.add(BatchNormalization())\n",
        "  model.add(Dropout(0.5))\n",
        "  model.add(Dense(256,  activation='relu'))\n",
        "  model.add(BatchNormalization())\n",
        "  model.add(Dropout(0.5))\n",
        "  model.add(Dense(len(target_list),  activation='softmax'))\n",
        "\n",
        "  print(model.summary())\n",
        "\n",
        "  #Configures the model for training.\n",
        "  #CategoricalCrossentropy: Computes the crossentropy loss between the labels and predictions.\n",
        "\n",
        "  model.compile(\n",
        "    loss='categorical_crossentropy',\n",
        "    optimizer=Adam(lr=0.01),\n",
        "    metrics=[\"accuracy\"]\n",
        "    )\n",
        "\n",
        "  if not os.path.exists('./checkpoints'):\n",
        "      os.makedirs('./checkpoints')\n",
        "\n",
        "  # Callback to save the Keras model or model weights at some frequency.  \n",
        "  checkpoint = ModelCheckpoint(\n",
        "    'checkpoints/weights.hdf5',\n",
        "    monitor='val_accuracy', \n",
        "    mode='max', \n",
        "    verbose=2,\n",
        "    save_best_only=True,\n",
        "    save_weights_only=True\n",
        "    )\n",
        "\n",
        "  early_stopping = EarlyStopping(\n",
        "    monitor='val_loss', \n",
        "    patience=3, \n",
        "    min_delta=0.001\n",
        "  )\n",
        "\n",
        "  start_training_time = time.time()\n",
        "  history = model.fit(\n",
        "    x_train_svd, \n",
        "    y_train_1_hot,\n",
        "    validation_data=(x_dev_svd, y_val_1_hot),\n",
        "    batch_size=256,\n",
        "    epochs=50,\n",
        "    shuffle=True,\n",
        "    callbacks=[Metrics(valid_data=(x_dev_svd, y_val_1_hot)), checkpoint]\n",
        "    )\n",
        "  end_training_time = time.time()\n",
        "\n",
        "  print(f'\\nTraining time: {time.strftime(\"%H:%M:%S\", time.gmtime(end_training_time - start_training_time))} sec\\n')"
      ],
      "metadata": {
        "id": "sbPjYa3DtKct",
        "colab": {
          "base_uri": "https://localhost:8080/"
        },
        "outputId": "02d04351-0c20-4152-cfeb-c6219dc945f4"
      },
      "execution_count": null,
      "outputs": [
        {
          "output_type": "stream",
          "name": "stdout",
          "text": [
            "Model: \"sequential_7\"\n",
            "_________________________________________________________________\n",
            " Layer (type)                Output Shape              Param #   \n",
            "=================================================================\n",
            " dense_28 (Dense)            (None, 1024)              513024    \n",
            "                                                                 \n",
            " batch_normalization_21 (Bat  (None, 1024)             4096      \n",
            " chNormalization)                                                \n",
            "                                                                 \n",
            " dropout_3 (Dropout)         (None, 1024)              0         \n",
            "                                                                 \n",
            " dense_29 (Dense)            (None, 512)               524800    \n",
            "                                                                 \n",
            " batch_normalization_22 (Bat  (None, 512)              2048      \n",
            " chNormalization)                                                \n",
            "                                                                 \n",
            " dropout_4 (Dropout)         (None, 512)               0         \n",
            "                                                                 \n",
            " dense_30 (Dense)            (None, 256)               131328    \n",
            "                                                                 \n",
            " batch_normalization_23 (Bat  (None, 256)              1024      \n",
            " chNormalization)                                                \n",
            "                                                                 \n",
            " dropout_5 (Dropout)         (None, 256)               0         \n",
            "                                                                 \n",
            " dense_31 (Dense)            (None, 4)                 1028      \n",
            "                                                                 \n",
            "=================================================================\n",
            "Total params: 1,177,348\n",
            "Trainable params: 1,173,764\n",
            "Non-trainable params: 3,584\n",
            "_________________________________________________________________\n"
          ]
        },
        {
          "output_type": "stream",
          "name": "stderr",
          "text": [
            "WARNING:absl:`lr` is deprecated, please use `learning_rate` instead, or use the legacy optimizer, e.g.,tf.keras.optimizers.legacy.Adam.\n"
          ]
        },
        {
          "output_type": "stream",
          "name": "stdout",
          "text": [
            "None\n",
            "Epoch 1/50\n",
            "1267/1267 [==============================] - 3s 2ms/step\n",
            " — val_f1: 0.861861 — val_precision: 0.867552 — val_recall: 0.860661\n",
            "\n",
            "Epoch 1: val_accuracy improved from -inf to 0.86066, saving model to checkpoints/weights.hdf5\n",
            "300/300 [==============================] - 11s 27ms/step - loss: 0.5693 - accuracy: 0.8117 - val_loss: 0.7676 - val_accuracy: 0.8607 - val_f1: 0.8619 - val_recall: 0.8607 - val_precision: 0.8676\n",
            "Epoch 2/50\n",
            "1267/1267 [==============================] - 4s 3ms/step\n",
            " — val_f1: 0.888261 — val_precision: 0.889465 — val_recall: 0.888302\n",
            "\n",
            "Epoch 2: val_accuracy improved from 0.86066 to 0.88830, saving model to checkpoints/weights.hdf5\n",
            "300/300 [==============================] - 8s 27ms/step - loss: 0.3500 - accuracy: 0.8807 - val_loss: 0.3214 - val_accuracy: 0.8883 - val_f1: 0.8883 - val_recall: 0.8883 - val_precision: 0.8895\n",
            "Epoch 3/50\n",
            "1267/1267 [==============================] - 3s 2ms/step\n",
            " — val_f1: 0.891053 — val_precision: 0.892074 — val_recall: 0.891486\n",
            "\n",
            "Epoch 3: val_accuracy improved from 0.88830 to 0.89149, saving model to checkpoints/weights.hdf5\n",
            "300/300 [==============================] - 6s 19ms/step - loss: 0.3145 - accuracy: 0.8904 - val_loss: 0.3027 - val_accuracy: 0.8915 - val_f1: 0.8911 - val_recall: 0.8915 - val_precision: 0.8921\n",
            "Epoch 4/50\n",
            "1267/1267 [==============================] - 3s 2ms/step\n",
            " — val_f1: 0.889698 — val_precision: 0.891485 — val_recall: 0.890202\n",
            "\n",
            "Epoch 4: val_accuracy did not improve from 0.89149\n",
            "300/300 [==============================] - 8s 26ms/step - loss: 0.2845 - accuracy: 0.9004 - val_loss: 0.3076 - val_accuracy: 0.8902 - val_f1: 0.8897 - val_recall: 0.8902 - val_precision: 0.8915\n",
            "Epoch 5/50\n",
            "1267/1267 [==============================] - 3s 2ms/step\n",
            " — val_f1: 0.891696 — val_precision: 0.893090 — val_recall: 0.891905\n",
            "\n",
            "Epoch 5: val_accuracy improved from 0.89149 to 0.89191, saving model to checkpoints/weights.hdf5\n",
            "300/300 [==============================] - 8s 26ms/step - loss: 0.2609 - accuracy: 0.9074 - val_loss: 0.3029 - val_accuracy: 0.8919 - val_f1: 0.8917 - val_recall: 0.8919 - val_precision: 0.8931\n",
            "Epoch 6/50\n",
            "1267/1267 [==============================] - 3s 2ms/step\n",
            " — val_f1: 0.885790 — val_precision: 0.888281 — val_recall: 0.886723\n",
            "\n",
            "Epoch 6: val_accuracy did not improve from 0.89191\n",
            "300/300 [==============================] - 5s 18ms/step - loss: 0.2370 - accuracy: 0.9161 - val_loss: 0.3308 - val_accuracy: 0.8867 - val_f1: 0.8858 - val_recall: 0.8867 - val_precision: 0.8883\n",
            "Epoch 7/50\n",
            "1267/1267 [==============================] - 3s 2ms/step\n",
            " — val_f1: 0.893431 — val_precision: 0.894253 — val_recall: 0.893509\n",
            "\n",
            "Epoch 7: val_accuracy improved from 0.89191 to 0.89351, saving model to checkpoints/weights.hdf5\n",
            "300/300 [==============================] - 8s 26ms/step - loss: 0.2221 - accuracy: 0.9202 - val_loss: 0.3159 - val_accuracy: 0.8935 - val_f1: 0.8934 - val_recall: 0.8935 - val_precision: 0.8943\n",
            "Epoch 8/50\n",
            "1267/1267 [==============================] - 3s 2ms/step\n",
            " — val_f1: 0.892663 — val_precision: 0.893822 — val_recall: 0.892769\n",
            "\n",
            "Epoch 8: val_accuracy did not improve from 0.89351\n",
            "300/300 [==============================] - 8s 26ms/step - loss: 0.2012 - accuracy: 0.9280 - val_loss: 0.3205 - val_accuracy: 0.8928 - val_f1: 0.8927 - val_recall: 0.8928 - val_precision: 0.8938\n",
            "Epoch 9/50\n",
            "1267/1267 [==============================] - 3s 2ms/step\n",
            " — val_f1: 0.892125 — val_precision: 0.891969 — val_recall: 0.892399\n",
            "\n",
            "Epoch 9: val_accuracy did not improve from 0.89351\n",
            "300/300 [==============================] - 6s 19ms/step - loss: 0.1803 - accuracy: 0.9333 - val_loss: 0.3328 - val_accuracy: 0.8924 - val_f1: 0.8921 - val_recall: 0.8924 - val_precision: 0.8920\n",
            "Epoch 10/50\n",
            "1267/1267 [==============================] - 3s 2ms/step\n",
            " — val_f1: 0.892578 — val_precision: 0.893143 — val_recall: 0.893016\n",
            "\n",
            "Epoch 10: val_accuracy did not improve from 0.89351\n",
            "300/300 [==============================] - 6s 19ms/step - loss: 0.1680 - accuracy: 0.9386 - val_loss: 0.3561 - val_accuracy: 0.8930 - val_f1: 0.8926 - val_recall: 0.8930 - val_precision: 0.8931\n",
            "Epoch 11/50\n",
            "1267/1267 [==============================] - 3s 2ms/step\n",
            " — val_f1: 0.891523 — val_precision: 0.893004 — val_recall: 0.891881\n",
            "\n",
            "Epoch 11: val_accuracy did not improve from 0.89351\n",
            "300/300 [==============================] - 6s 19ms/step - loss: 0.1567 - accuracy: 0.9429 - val_loss: 0.3493 - val_accuracy: 0.8919 - val_f1: 0.8915 - val_recall: 0.8919 - val_precision: 0.8930\n",
            "Epoch 12/50\n",
            "1267/1267 [==============================] - 3s 2ms/step\n",
            " — val_f1: 0.892096 — val_precision: 0.892402 — val_recall: 0.892423\n",
            "\n",
            "Epoch 12: val_accuracy did not improve from 0.89351\n",
            "300/300 [==============================] - 8s 25ms/step - loss: 0.1414 - accuracy: 0.9486 - val_loss: 0.3601 - val_accuracy: 0.8924 - val_f1: 0.8921 - val_recall: 0.8924 - val_precision: 0.8924\n",
            "Epoch 13/50\n",
            "1267/1267 [==============================] - 3s 2ms/step\n",
            " — val_f1: 0.891811 — val_precision: 0.892253 — val_recall: 0.891881\n",
            "\n",
            "Epoch 13: val_accuracy did not improve from 0.89351\n",
            "300/300 [==============================] - 8s 26ms/step - loss: 0.1288 - accuracy: 0.9519 - val_loss: 0.3720 - val_accuracy: 0.8919 - val_f1: 0.8918 - val_recall: 0.8919 - val_precision: 0.8923\n",
            "Epoch 14/50\n",
            "1267/1267 [==============================] - 3s 2ms/step\n",
            " — val_f1: 0.891476 — val_precision: 0.893002 — val_recall: 0.891634\n",
            "\n",
            "Epoch 14: val_accuracy did not improve from 0.89351\n",
            "300/300 [==============================] - 8s 26ms/step - loss: 0.1201 - accuracy: 0.9554 - val_loss: 0.4006 - val_accuracy: 0.8916 - val_f1: 0.8915 - val_recall: 0.8916 - val_precision: 0.8930\n",
            "Epoch 15/50\n",
            "1267/1267 [==============================] - 3s 2ms/step\n",
            " — val_f1: 0.892893 — val_precision: 0.893119 — val_recall: 0.893115\n",
            "\n",
            "Epoch 15: val_accuracy did not improve from 0.89351\n",
            "300/300 [==============================] - 6s 19ms/step - loss: 0.1153 - accuracy: 0.9570 - val_loss: 0.3920 - val_accuracy: 0.8931 - val_f1: 0.8929 - val_recall: 0.8931 - val_precision: 0.8931\n",
            "Epoch 16/50\n",
            "1267/1267 [==============================] - 3s 2ms/step\n",
            " — val_f1: 0.889862 — val_precision: 0.890429 — val_recall: 0.890005\n",
            "\n",
            "Epoch 16: val_accuracy did not improve from 0.89351\n",
            "300/300 [==============================] - 6s 19ms/step - loss: 0.1077 - accuracy: 0.9600 - val_loss: 0.4031 - val_accuracy: 0.8900 - val_f1: 0.8899 - val_recall: 0.8900 - val_precision: 0.8904\n",
            "Epoch 17/50\n",
            "1267/1267 [==============================] - 3s 2ms/step\n",
            " — val_f1: 0.893039 — val_precision: 0.893399 — val_recall: 0.893115\n",
            "\n",
            "Epoch 17: val_accuracy did not improve from 0.89351\n",
            "300/300 [==============================] - 8s 26ms/step - loss: 0.1047 - accuracy: 0.9613 - val_loss: 0.4081 - val_accuracy: 0.8931 - val_f1: 0.8930 - val_recall: 0.8931 - val_precision: 0.8934\n",
            "Epoch 18/50\n",
            "1267/1267 [==============================] - 4s 3ms/step\n",
            " — val_f1: 0.890367 — val_precision: 0.890228 — val_recall: 0.890696\n",
            "\n",
            "Epoch 18: val_accuracy did not improve from 0.89351\n",
            "300/300 [==============================] - 8s 26ms/step - loss: 0.0990 - accuracy: 0.9635 - val_loss: 0.4254 - val_accuracy: 0.8907 - val_f1: 0.8904 - val_recall: 0.8907 - val_precision: 0.8902\n",
            "Epoch 19/50\n",
            "1267/1267 [==============================] - 3s 2ms/step\n",
            " — val_f1: 0.891356 — val_precision: 0.891232 — val_recall: 0.891658\n",
            "\n",
            "Epoch 19: val_accuracy did not improve from 0.89351\n",
            "300/300 [==============================] - 8s 26ms/step - loss: 0.0921 - accuracy: 0.9667 - val_loss: 0.4168 - val_accuracy: 0.8917 - val_f1: 0.8914 - val_recall: 0.8917 - val_precision: 0.8912\n",
            "Epoch 20/50\n",
            "1267/1267 [==============================] - 3s 2ms/step\n",
            " — val_f1: 0.890605 — val_precision: 0.891302 — val_recall: 0.890597\n",
            "\n",
            "Epoch 20: val_accuracy did not improve from 0.89351\n",
            "300/300 [==============================] - 6s 19ms/step - loss: 0.0954 - accuracy: 0.9655 - val_loss: 0.4348 - val_accuracy: 0.8906 - val_f1: 0.8906 - val_recall: 0.8906 - val_precision: 0.8913\n",
            "Epoch 21/50\n",
            "1267/1267 [==============================] - 3s 2ms/step\n",
            " — val_f1: 0.890918 — val_precision: 0.891140 — val_recall: 0.891387\n",
            "\n",
            "Epoch 21: val_accuracy did not improve from 0.89351\n",
            "300/300 [==============================] - 8s 26ms/step - loss: 0.0847 - accuracy: 0.9688 - val_loss: 0.4222 - val_accuracy: 0.8914 - val_f1: 0.8909 - val_recall: 0.8914 - val_precision: 0.8911\n",
            "Epoch 22/50\n",
            "1267/1267 [==============================] - 3s 2ms/step\n",
            " — val_f1: 0.889530 — val_precision: 0.890100 — val_recall: 0.889931\n",
            "\n",
            "Epoch 22: val_accuracy did not improve from 0.89351\n",
            "300/300 [==============================] - 6s 19ms/step - loss: 0.0834 - accuracy: 0.9701 - val_loss: 0.4465 - val_accuracy: 0.8899 - val_f1: 0.8895 - val_recall: 0.8899 - val_precision: 0.8901\n",
            "Epoch 23/50\n",
            "1267/1267 [==============================] - 3s 2ms/step\n",
            " — val_f1: 0.890698 — val_precision: 0.890657 — val_recall: 0.891017\n",
            "\n",
            "Epoch 23: val_accuracy did not improve from 0.89351\n",
            "300/300 [==============================] - 8s 26ms/step - loss: 0.0837 - accuracy: 0.9699 - val_loss: 0.4277 - val_accuracy: 0.8910 - val_f1: 0.8907 - val_recall: 0.8910 - val_precision: 0.8907\n",
            "Epoch 24/50\n",
            "1267/1267 [==============================] - 3s 2ms/step\n",
            " — val_f1: 0.890758 — val_precision: 0.892123 — val_recall: 0.891190\n",
            "\n",
            "Epoch 24: val_accuracy did not improve from 0.89351\n",
            "300/300 [==============================] - 6s 19ms/step - loss: 0.0785 - accuracy: 0.9714 - val_loss: 0.4445 - val_accuracy: 0.8912 - val_f1: 0.8908 - val_recall: 0.8912 - val_precision: 0.8921\n",
            "Epoch 25/50\n",
            "1267/1267 [==============================] - 3s 2ms/step\n",
            " — val_f1: 0.893645 — val_precision: 0.894661 — val_recall: 0.893731\n",
            "\n",
            "Epoch 25: val_accuracy improved from 0.89351 to 0.89373, saving model to checkpoints/weights.hdf5\n",
            "300/300 [==============================] - 6s 20ms/step - loss: 0.0722 - accuracy: 0.9735 - val_loss: 0.4489 - val_accuracy: 0.8937 - val_f1: 0.8936 - val_recall: 0.8937 - val_precision: 0.8947\n",
            "Epoch 26/50\n",
            "1267/1267 [==============================] - 3s 2ms/step\n",
            " — val_f1: 0.891877 — val_precision: 0.891954 — val_recall: 0.892152\n",
            "\n",
            "Epoch 26: val_accuracy did not improve from 0.89373\n",
            "300/300 [==============================] - 8s 26ms/step - loss: 0.0729 - accuracy: 0.9741 - val_loss: 0.4661 - val_accuracy: 0.8922 - val_f1: 0.8919 - val_recall: 0.8922 - val_precision: 0.8920\n",
            "Epoch 27/50\n",
            "1267/1267 [==============================] - 3s 2ms/step\n",
            " — val_f1: 0.890264 — val_precision: 0.891485 — val_recall: 0.890548\n",
            "\n",
            "Epoch 27: val_accuracy did not improve from 0.89373\n",
            "300/300 [==============================] - 8s 26ms/step - loss: 0.0670 - accuracy: 0.9755 - val_loss: 0.4609 - val_accuracy: 0.8905 - val_f1: 0.8903 - val_recall: 0.8905 - val_precision: 0.8915\n",
            "Epoch 28/50\n",
            "1267/1267 [==============================] - 3s 2ms/step\n",
            " — val_f1: 0.890612 — val_precision: 0.890533 — val_recall: 0.890795\n",
            "\n",
            "Epoch 28: val_accuracy did not improve from 0.89373\n",
            "300/300 [==============================] - 8s 25ms/step - loss: 0.0640 - accuracy: 0.9772 - val_loss: 0.4446 - val_accuracy: 0.8908 - val_f1: 0.8906 - val_recall: 0.8908 - val_precision: 0.8905\n",
            "Epoch 29/50\n",
            "1267/1267 [==============================] - 4s 3ms/step\n",
            " — val_f1: 0.887694 — val_precision: 0.889371 — val_recall: 0.888105\n",
            "\n",
            "Epoch 29: val_accuracy did not improve from 0.89373\n",
            "300/300 [==============================] - 7s 24ms/step - loss: 0.0654 - accuracy: 0.9766 - val_loss: 0.4740 - val_accuracy: 0.8881 - val_f1: 0.8877 - val_recall: 0.8881 - val_precision: 0.8894\n",
            "Epoch 30/50\n",
            "1267/1267 [==============================] - 3s 2ms/step\n",
            " — val_f1: 0.891751 — val_precision: 0.891882 — val_recall: 0.892078\n",
            "\n",
            "Epoch 30: val_accuracy did not improve from 0.89373\n",
            "300/300 [==============================] - 8s 26ms/step - loss: 0.0651 - accuracy: 0.9757 - val_loss: 0.4749 - val_accuracy: 0.8921 - val_f1: 0.8918 - val_recall: 0.8921 - val_precision: 0.8919\n",
            "Epoch 31/50\n",
            "1267/1267 [==============================] - 3s 2ms/step\n",
            " — val_f1: 0.888429 — val_precision: 0.889070 — val_recall: 0.888894\n",
            "\n",
            "Epoch 31: val_accuracy did not improve from 0.89373\n",
            "300/300 [==============================] - 8s 26ms/step - loss: 0.0645 - accuracy: 0.9767 - val_loss: 0.4741 - val_accuracy: 0.8889 - val_f1: 0.8884 - val_recall: 0.8889 - val_precision: 0.8891\n",
            "Epoch 32/50\n",
            "1267/1267 [==============================] - 4s 3ms/step\n",
            " — val_f1: 0.889889 — val_precision: 0.890921 — val_recall: 0.890153\n",
            "\n",
            "Epoch 32: val_accuracy did not improve from 0.89373\n",
            "300/300 [==============================] - 8s 26ms/step - loss: 0.0637 - accuracy: 0.9774 - val_loss: 0.4795 - val_accuracy: 0.8902 - val_f1: 0.8899 - val_recall: 0.8902 - val_precision: 0.8909\n",
            "Epoch 33/50\n",
            "1267/1267 [==============================] - 3s 2ms/step\n",
            " — val_f1: 0.891278 — val_precision: 0.892208 — val_recall: 0.891634\n",
            "\n",
            "Epoch 33: val_accuracy did not improve from 0.89373\n",
            "300/300 [==============================] - 6s 20ms/step - loss: 0.0580 - accuracy: 0.9793 - val_loss: 0.4760 - val_accuracy: 0.8916 - val_f1: 0.8913 - val_recall: 0.8916 - val_precision: 0.8922\n",
            "Epoch 34/50\n",
            "1267/1267 [==============================] - 3s 2ms/step\n",
            " — val_f1: 0.890636 — val_precision: 0.891244 — val_recall: 0.890696\n",
            "\n",
            "Epoch 34: val_accuracy did not improve from 0.89373\n",
            "300/300 [==============================] - 8s 25ms/step - loss: 0.0550 - accuracy: 0.9803 - val_loss: 0.4847 - val_accuracy: 0.8907 - val_f1: 0.8906 - val_recall: 0.8907 - val_precision: 0.8912\n",
            "Epoch 35/50\n",
            "1267/1267 [==============================] - 3s 2ms/step\n",
            " — val_f1: 0.890804 — val_precision: 0.891923 — val_recall: 0.891041\n",
            "\n",
            "Epoch 35: val_accuracy did not improve from 0.89373\n",
            "300/300 [==============================] - 8s 26ms/step - loss: 0.0570 - accuracy: 0.9793 - val_loss: 0.4824 - val_accuracy: 0.8910 - val_f1: 0.8908 - val_recall: 0.8910 - val_precision: 0.8919\n",
            "Epoch 36/50\n",
            "1267/1267 [==============================] - 3s 2ms/step\n",
            " — val_f1: 0.889461 — val_precision: 0.890685 — val_recall: 0.889635\n",
            "\n",
            "Epoch 36: val_accuracy did not improve from 0.89373\n",
            "300/300 [==============================] - 6s 19ms/step - loss: 0.0537 - accuracy: 0.9808 - val_loss: 0.4938 - val_accuracy: 0.8896 - val_f1: 0.8895 - val_recall: 0.8896 - val_precision: 0.8907\n",
            "Epoch 37/50\n",
            "1267/1267 [==============================] - 3s 2ms/step\n",
            " — val_f1: 0.891296 — val_precision: 0.891813 — val_recall: 0.891584\n",
            "\n",
            "Epoch 37: val_accuracy did not improve from 0.89373\n",
            "300/300 [==============================] - 6s 19ms/step - loss: 0.0545 - accuracy: 0.9805 - val_loss: 0.4875 - val_accuracy: 0.8916 - val_f1: 0.8913 - val_recall: 0.8916 - val_precision: 0.8918\n",
            "Epoch 38/50\n",
            "1267/1267 [==============================] - 3s 2ms/step\n",
            " — val_f1: 0.892225 — val_precision: 0.892787 — val_recall: 0.892399\n",
            "\n",
            "Epoch 38: val_accuracy did not improve from 0.89373\n",
            "300/300 [==============================] - 8s 26ms/step - loss: 0.0511 - accuracy: 0.9817 - val_loss: 0.4901 - val_accuracy: 0.8924 - val_f1: 0.8922 - val_recall: 0.8924 - val_precision: 0.8928\n",
            "Epoch 39/50\n",
            "1267/1267 [==============================] - 3s 2ms/step\n",
            " — val_f1: 0.891097 — val_precision: 0.891809 — val_recall: 0.891264\n",
            "\n",
            "Epoch 39: val_accuracy did not improve from 0.89373\n",
            "300/300 [==============================] - 6s 19ms/step - loss: 0.0543 - accuracy: 0.9811 - val_loss: 0.4943 - val_accuracy: 0.8913 - val_f1: 0.8911 - val_recall: 0.8913 - val_precision: 0.8918\n",
            "Epoch 40/50\n",
            "1267/1267 [==============================] - 3s 2ms/step\n",
            " — val_f1: 0.890692 — val_precision: 0.890987 — val_recall: 0.890967\n",
            "\n",
            "Epoch 40: val_accuracy did not improve from 0.89373\n",
            "300/300 [==============================] - 6s 20ms/step - loss: 0.0500 - accuracy: 0.9822 - val_loss: 0.5074 - val_accuracy: 0.8910 - val_f1: 0.8907 - val_recall: 0.8910 - val_precision: 0.8910\n",
            "Epoch 41/50\n",
            "1267/1267 [==============================] - 3s 2ms/step\n",
            " — val_f1: 0.890386 — val_precision: 0.891152 — val_recall: 0.890671\n",
            "\n",
            "Epoch 41: val_accuracy did not improve from 0.89373\n",
            "300/300 [==============================] - 6s 20ms/step - loss: 0.0464 - accuracy: 0.9831 - val_loss: 0.5141 - val_accuracy: 0.8907 - val_f1: 0.8904 - val_recall: 0.8907 - val_precision: 0.8912\n",
            "Epoch 42/50\n",
            "1267/1267 [==============================] - 3s 2ms/step\n",
            " — val_f1: 0.892226 — val_precision: 0.892404 — val_recall: 0.892374\n",
            "\n",
            "Epoch 42: val_accuracy did not improve from 0.89373\n",
            "300/300 [==============================] - 8s 26ms/step - loss: 0.0484 - accuracy: 0.9825 - val_loss: 0.4850 - val_accuracy: 0.8924 - val_f1: 0.8922 - val_recall: 0.8924 - val_precision: 0.8924\n",
            "Epoch 43/50\n",
            "1267/1267 [==============================] - 3s 2ms/step\n",
            " — val_f1: 0.888580 — val_precision: 0.888935 — val_recall: 0.888894\n",
            "\n",
            "Epoch 43: val_accuracy did not improve from 0.89373\n",
            "300/300 [==============================] - 6s 19ms/step - loss: 0.0486 - accuracy: 0.9823 - val_loss: 0.5085 - val_accuracy: 0.8889 - val_f1: 0.8886 - val_recall: 0.8889 - val_precision: 0.8889\n",
            "Epoch 44/50\n",
            "1267/1267 [==============================] - 3s 2ms/step\n",
            " — val_f1: 0.890976 — val_precision: 0.891654 — val_recall: 0.890893\n",
            "\n",
            "Epoch 44: val_accuracy did not improve from 0.89373\n",
            "300/300 [==============================] - 8s 26ms/step - loss: 0.0490 - accuracy: 0.9828 - val_loss: 0.5005 - val_accuracy: 0.8909 - val_f1: 0.8910 - val_recall: 0.8909 - val_precision: 0.8917\n",
            "Epoch 45/50\n",
            "1267/1267 [==============================] - 3s 2ms/step\n",
            " — val_f1: 0.890558 — val_precision: 0.891661 — val_recall: 0.890647\n",
            "\n",
            "Epoch 45: val_accuracy did not improve from 0.89373\n",
            "300/300 [==============================] - 6s 19ms/step - loss: 0.0435 - accuracy: 0.9845 - val_loss: 0.5281 - val_accuracy: 0.8906 - val_f1: 0.8906 - val_recall: 0.8906 - val_precision: 0.8917\n",
            "Epoch 46/50\n",
            "1267/1267 [==============================] - 3s 2ms/step\n",
            " — val_f1: 0.889053 — val_precision: 0.890181 — val_recall: 0.889314\n",
            "\n",
            "Epoch 46: val_accuracy did not improve from 0.89373\n",
            "300/300 [==============================] - 6s 19ms/step - loss: 0.0468 - accuracy: 0.9832 - val_loss: 0.5391 - val_accuracy: 0.8893 - val_f1: 0.8891 - val_recall: 0.8893 - val_precision: 0.8902\n",
            "Epoch 47/50\n",
            "1267/1267 [==============================] - 3s 2ms/step\n",
            " — val_f1: 0.887384 — val_precision: 0.889699 — val_recall: 0.887685\n",
            "\n",
            "Epoch 47: val_accuracy did not improve from 0.89373\n",
            "300/300 [==============================] - 6s 19ms/step - loss: 0.0450 - accuracy: 0.9841 - val_loss: 0.5276 - val_accuracy: 0.8877 - val_f1: 0.8874 - val_recall: 0.8877 - val_precision: 0.8897\n",
            "Epoch 48/50\n",
            "1267/1267 [==============================] - 3s 2ms/step\n",
            " — val_f1: 0.889735 — val_precision: 0.890267 — val_recall: 0.890178\n",
            "\n",
            "Epoch 48: val_accuracy did not improve from 0.89373\n",
            "300/300 [==============================] - 8s 27ms/step - loss: 0.0438 - accuracy: 0.9843 - val_loss: 0.5163 - val_accuracy: 0.8902 - val_f1: 0.8897 - val_recall: 0.8902 - val_precision: 0.8903\n",
            "Epoch 49/50\n",
            "1267/1267 [==============================] - 3s 2ms/step\n",
            " — val_f1: 0.889955 — val_precision: 0.891396 — val_recall: 0.890227\n",
            "\n",
            "Epoch 49: val_accuracy did not improve from 0.89373\n",
            "300/300 [==============================] - 8s 27ms/step - loss: 0.0413 - accuracy: 0.9862 - val_loss: 0.5453 - val_accuracy: 0.8902 - val_f1: 0.8900 - val_recall: 0.8902 - val_precision: 0.8914\n",
            "Epoch 50/50\n",
            "1267/1267 [==============================] - 3s 2ms/step\n",
            " — val_f1: 0.891241 — val_precision: 0.891624 — val_recall: 0.891412\n",
            "\n",
            "Epoch 50: val_accuracy did not improve from 0.89373\n",
            "300/300 [==============================] - 7s 23ms/step - loss: 0.0434 - accuracy: 0.9843 - val_loss: 0.5186 - val_accuracy: 0.8914 - val_f1: 0.8912 - val_recall: 0.8914 - val_precision: 0.8916\n",
            "\n",
            "Training time: 00:05:48 sec\n",
            "\n"
          ]
        }
      ]
    },
    {
      "cell_type": "code",
      "source": [
        "# summarize history for accuracy\n",
        "plt.rcParams[\"figure.figsize\"] = (15,8)\n",
        "# plt.rcParams['axes.facecolor'] = 'white'\n",
        "plt.style.use('seaborn-whitegrid')\n",
        "\n",
        "plt.plot(history.history['accuracy'])\n",
        "plt.plot(history.history['val_accuracy'])\n",
        "plt.title(\"Model's accuracy\")\n",
        "plt.ylabel('Accuracy')\n",
        "plt.xlabel('Epoch')\n",
        "plt.legend(['train', 'dev'], loc='upper left')\n",
        "plt.show();\n",
        "\n",
        "# summarize history for loss\n",
        "plt.plot(history.history['loss'])\n",
        "plt.plot(history.history['val_loss'])\n",
        "plt.title(\"Model's loss\")\n",
        "plt.ylabel('Loss')\n",
        "plt.xlabel('Epoch')\n",
        "plt.legend(['train', 'dev'], loc='upper right')\n",
        "plt.show();"
      ],
      "metadata": {
        "id": "mz-Jrn1yMyQm",
        "colab": {
          "base_uri": "https://localhost:8080/",
          "height": 999
        },
        "outputId": "53321d4d-72ea-495b-f59a-6a4e06a7cf02"
      },
      "execution_count": null,
      "outputs": [
        {
          "output_type": "display_data",
          "data": {
            "text/plain": [
              "<Figure size 1080x576 with 1 Axes>"
            ],
            "image/png": "[encoded data removed]"
          },
          "metadata": {}
        },
        {
          "output_type": "display_data",
          "data": {
            "text/plain": [
              "<Figure size 1080x576 with 1 Axes>"
            ],
            "image/png": "[encoded data removed]"
          },
          "metadata": {}
        }
      ]
    },
    {
      "cell_type": "markdown",
      "source": [
        "# ***Evaluate performance of tf-idf MLP model***"
      ],
      "metadata": {
        "id": "XNWT7K_XF1sW"
      }
    },
    {
      "cell_type": "code",
      "source": [
        "import warnings\n",
        "from tensorflow.keras import backend as K\n",
        "from tensorflow.keras.models import Sequential\n",
        "from tensorflow.keras.layers import Dense\n",
        "from tensorflow.keras.optimizers import Adam\n",
        "\n",
        "target_list = [\"World\", \"Sports\", \"Business\", \"Sci/Tech\"]\n",
        "\n",
        "with tf.device('/device:GPU:0'):\n",
        "\n",
        "  model = Sequential()\n",
        "  model.add(Dense(1024, input_dim=x_dev_svd.shape[1] , activation='relu'))\n",
        "  model.add(BatchNormalization())\n",
        "  model.add(Dense(512, activation='relu'))\n",
        "  model.add(BatchNormalization())\n",
        "  model.add(Dense(256,  activation='relu'))\n",
        "  model.add(BatchNormalization())\n",
        "  model.add(Dense(len(target_list),  activation='softmax'))\n",
        "  \n",
        "  # Load weights from the pre-trained model\n",
        "  model.load_weights(\"checkpoints/weights.hdf5\")\n",
        "  model.compile(\n",
        "      loss='categorical_crossentropy',\n",
        "      optimizer=Adam(lr=0.01),\n",
        "      metrics=[\"accuracy\"]\n",
        "      )\n",
        "\n",
        "  predictions = np.argmax(model.predict(x_dev_svd), -1)\n",
        "  report_mlp_dev = classification_report(dev_y, predictions, target_names=target_list)\n",
        "  print(report_mlp_dev)\n",
        "\n",
        "  pred = model.predict(x_dev_svd)\n",
        "  # For each class\n",
        "  precision = dict()\n",
        "  recall = dict()\n",
        "  average_precision = dict()\n",
        "  area = dict()\n",
        "  for i in range(4):\n",
        "      precision[i], recall[i], _ = precision_recall_curve(y_val_1_hot[:, i], pred[:, i])\n",
        "      average_precision[i] = average_precision_score(y_val_1_hot[:, i], pred[:, i])\n",
        "      # A \"micro-average\": quantifying score on each class\n",
        "      category = \"micro-\" + target_list[i]\n",
        "      precision[category], recall[category], _ = precision_recall_curve(\n",
        "      y_val_1_hot[:, i], pred[:, i])\n",
        "      area[category] = auc(recall[category], precision[category])\n",
        "\n",
        "  # A \"micro-average\": quantifying score on all classes jointly\n",
        "  precision[\"micro\"], recall[\"micro\"], _ = precision_recall_curve(\n",
        "      y_val_1_hot.ravel(), pred.ravel()\n",
        "  )\n",
        "  area_all = auc(recall['micro'], precision['micro'])\n",
        "  # Display the results: Train\n",
        "  #edit_dataframe(pd.DataFrame(report_mlp_dev).transpose(), area, 'dev')\n",
        "    "
      ],
      "metadata": {
        "id": "VQ6njJuqF1QG",
        "colab": {
          "base_uri": "https://localhost:8080/"
        },
        "outputId": "18325bed-e331-47a7-db67-9fe270634ba7"
      },
      "execution_count": null,
      "outputs": [
        {
          "output_type": "stream",
          "name": "stderr",
          "text": [
            "WARNING:absl:`lr` is deprecated, please use `learning_rate` instead, or use the legacy optimizer, e.g.,tf.keras.optimizers.legacy.Adam.\n"
          ]
        },
        {
          "output_type": "stream",
          "name": "stdout",
          "text": [
            "1267/1267 [==============================] - 3s 2ms/step\n",
            "              precision    recall  f1-score   support\n",
            "\n",
            "       World       0.92      0.88      0.90      9682\n",
            "      Sports       0.94      0.96      0.95     10491\n",
            "    Business       0.88      0.83      0.86     10439\n",
            "    Sci/Tech       0.83      0.89      0.86      9908\n",
            "\n",
            "    accuracy                           0.89     40520\n",
            "   macro avg       0.89      0.89      0.89     40520\n",
            "weighted avg       0.89      0.89      0.89     40520\n",
            "\n",
            "1267/1267 [==============================] - 3s 2ms/step\n"
          ]
        }
      ]
    },
    {
      "cell_type": "markdown",
      "source": [
        "# ***Fine Tuning using Keras Tuner***"
      ],
      "metadata": {
        "id": "RkP4le8Z3Ns3"
      }
    },
    {
      "cell_type": "code",
      "source": [
        "def model_builder(hp):\n",
        "  model = tf.keras.Sequential()\n",
        "\n",
        "  # Tune the number of units in the first Dense layer\n",
        "  # Choose an optimal value between 32-512\n",
        "\n",
        "  activation_ = hp.Choice(\"activation\", [\"relu\", \"tanh\"])\n",
        "  for i in range(hp.Int('num_layers', 2, 5)):\n",
        "    if i==0:\n",
        "      hp_units0 = hp.Int('units_layer_'+str(i), min_value=512, max_value=1024, step=128)\n",
        "      print('units_layer_'+str(i) + ': ' + str(hp_units0) + ' neurons.')\n",
        "      model.add(tf.keras.layers.Dense(units=hp_units0, input_dim=x_train_svd.shape[1], activation = activation_)) # input_dim=x_train_svd.shape[1],\n",
        "    elif i==1:\n",
        "      hp_units1 = hp.Int('units_layer_'+str(i), min_value=256, max_value=512, step=64)\n",
        "      print('units_layer_'+str(i) + ': ' + str(hp_units1) + ' neurons.')\n",
        "      model.add(tf.keras.layers.Dense(units=hp_units1, activation = activation_))\n",
        "    else:\n",
        "      hp_units2 = hp.Int('units_layer_'+str(i), min_value=64, max_value=256, step=64)\n",
        "      print('units_layer_'+str(i) + ': ' + str(hp_units2) + ' neurons.')\n",
        "      model.add(tf.keras.layers.Dense(units=hp_units1, activation = activation_))\n",
        "\n",
        "    hp_dropout = hp.Float('dropout_rate', min_value=0.3, max_value=0.6,step=0.05)\n",
        "    model.add(BatchNormalization())\n",
        "    model.add(Dropout(hp_dropout))\n",
        "\n",
        "  model.add(Dense(len(target_list),  activation='softmax'))\n",
        "\n",
        "  # Tune the learning rate for the optimizer\n",
        "  # Choose an optimal value from 0.01, 0.001, or 0.0001\n",
        "  hp_learning_rate = hp.Choice('learning_rate', values=[1e-2, 1e-3, 1e-4])\n",
        "  #hp_optimizer = hp.Choice('optimizer', ['Adam', 'sgd'])\n",
        "  model.compile(optimizer=tf.keras.optimizers.Adam(learning_rate=hp_learning_rate),\n",
        "                loss='categorical_crossentropy',\n",
        "                metrics=['accuracy', 'categorical_crossentropy'])\n",
        "\n",
        "  return model"
      ],
      "metadata": {
        "id": "oSf_lX9v3Shn"
      },
      "execution_count": null,
      "outputs": []
    },
    {
      "cell_type": "code",
      "source": [
        "!pip3 install -q -U keras-tuner"
      ],
      "metadata": {
        "id": "e7s1VOfq3Ski",
        "colab": {
          "base_uri": "https://localhost:8080/"
        },
        "outputId": "92f17aa5-3519-429d-b831-48700ec98eea"
      },
      "execution_count": null,
      "outputs": [
        {
          "output_type": "stream",
          "name": "stdout",
          "text": [
            "\u001b[K     |████████████████████████████████| 135 kB 31.1 MB/s \n",
            "\u001b[K     |████████████████████████████████| 1.6 MB 49.7 MB/s \n",
            "\u001b[?25h"
          ]
        }
      ]
    },
    {
      "cell_type": "code",
      "source": [
        "import keras_tuner as kt"
      ],
      "metadata": {
        "id": "gjwX4bh33SnF"
      },
      "execution_count": null,
      "outputs": []
    },
    {
      "cell_type": "code",
      "source": [
        "tuner_t2 = kt.RandomSearch(model_builder,\n",
        "                     objective=kt.Objective(\"val_categorical_crossentropy\", direction=\"min\"),\n",
        "                     max_trials=30,\n",
        "                     directory=\"nlp3\",\n",
        "                     project_name=\"finetuning9\")"
      ],
      "metadata": {
        "id": "oyAw6FmV3Spk",
        "colab": {
          "base_uri": "https://localhost:8080/"
        },
        "outputId": "25f5beff-d29e-4b4a-fe00-6e4f7ef1f2e0"
      },
      "execution_count": null,
      "outputs": [
        {
          "output_type": "stream",
          "name": "stdout",
          "text": [
            "units_layer_0: 512 neurons.\n",
            "units_layer_1: 256 neurons.\n"
          ]
        }
      ]
    },
    {
      "cell_type": "code",
      "source": [
        "stop_early = tf.keras.callbacks.EarlyStopping(monitor='val_categorical_crossentropy', patience=3)"
      ],
      "metadata": {
        "id": "WDn95pEK5vAo"
      },
      "execution_count": null,
      "outputs": []
    },
    {
      "cell_type": "code",
      "source": [
        "tuner_t2.search(x_train_svd, y_train_1_hot, epochs=15, callbacks=[stop_early], validation_data=(x_dev_svd, y_val_1_hot))"
      ],
      "metadata": {
        "id": "fmj7Xw7A51j_",
        "colab": {
          "base_uri": "https://localhost:8080/"
        },
        "outputId": "f5c9b1de-bd48-43c6-e437-a6fb7f3edf05"
      },
      "execution_count": null,
      "outputs": [
        {
          "output_type": "stream",
          "name": "stdout",
          "text": [
            "Trial 30 Complete [00h 01m 35s]\n",
            "val_categorical_crossentropy: 0.43931663036346436\n",
            "\n",
            "Best val_categorical_crossentropy So Far: 0.2958736717700958\n",
            "Total elapsed time: 01h 48m 17s\n"
          ]
        }
      ]
    },
    {
      "cell_type": "code",
      "source": [
        "# Get the optimal hyperparameters\n",
        "best_hps=tuner_t2.get_best_hyperparameters(num_trials=1)[0]"
      ],
      "metadata": {
        "id": "EZxyO9o0avNV"
      },
      "execution_count": null,
      "outputs": []
    },
    {
      "cell_type": "code",
      "source": [
        "print(f\"\"\"\n",
        "The hyperparameter search is complete. The optimal number of layers is {best_hps.get('num_layers')}. The optimal number of units in the first densely-connected\n",
        "layer is {best_hps.get('units_layer_0')} , the optimal activation function is {best_hps.get('activation')}, the optimal learning rate for the optimizer\n",
        "is {best_hps.get('learning_rate')}. The optimal dropout rate is {best_hps.get('dropout_rate')}.\n",
        "\"\"\")"
      ],
      "metadata": {
        "id": "Jd0zQxw6ap-I",
        "colab": {
          "base_uri": "https://localhost:8080/"
        },
        "outputId": "8e74d5f3-01a5-41b6-d31e-2c4acd767fcf"
      },
      "execution_count": null,
      "outputs": [
        {
          "output_type": "stream",
          "name": "stdout",
          "text": [
            "\n",
            "The hyperparameter search is complete. The optimal number of layers is 3. The optimal number of units in the first densely-connected\n",
            "layer is 896 , the optimal activation function is relu, the optimal learning rate for the optimizer\n",
            "is 0.0001. The optimal dropout rate is 0.39999999999999997.\n",
            "\n"
          ]
        }
      ]
    },
    {
      "cell_type": "code",
      "source": [
        "model_ft = tuner_t2.hypermodel.build(best_hps)"
      ],
      "metadata": {
        "id": "QYxhfaVTccds",
        "colab": {
          "base_uri": "https://localhost:8080/"
        },
        "outputId": "a30ff0ae-aef0-4bd2-ff43-593976f28fb8"
      },
      "execution_count": null,
      "outputs": [
        {
          "output_type": "stream",
          "name": "stdout",
          "text": [
            "units_layer_0: 896 neurons.\n",
            "units_layer_1: 256 neurons.\n",
            "units_layer_2: 64 neurons.\n"
          ]
        }
      ]
    },
    {
      "cell_type": "code",
      "source": [
        "print(model_ft.summary())\n",
        "print(model_ft.layers[0].activation)\n",
        "\n",
        "history = model_ft.fit(\n",
        "    x_train_svd, \n",
        "    y_train_1_hot,\n",
        "    validation_data=(x_dev_svd, y_val_1_hot),\n",
        "    batch_size=256,\n",
        "    epochs=50,\n",
        "    shuffle=True,\n",
        "    callbacks=[Metrics(valid_data=(x_dev_svd, y_val_1_hot)), checkpoint]\n",
        "    )"
      ],
      "metadata": {
        "id": "h6hP-94wcf07",
        "colab": {
          "base_uri": "https://localhost:8080/"
        },
        "outputId": "e4a43dd2-0194-4ece-99e0-21407236651a"
      },
      "execution_count": null,
      "outputs": [
        {
          "output_type": "stream",
          "name": "stdout",
          "text": [
            "Model: \"sequential_1\"\n",
            "_________________________________________________________________\n",
            " Layer (type)                Output Shape              Param #   \n",
            "=================================================================\n",
            " dense_5 (Dense)             (None, 896)               448896    \n",
            "                                                                 \n",
            " batch_normalization_4 (Batc  (None, 896)              3584      \n",
            " hNormalization)                                                 \n",
            "                                                                 \n",
            " dropout_4 (Dropout)         (None, 896)               0         \n",
            "                                                                 \n",
            " dense_6 (Dense)             (None, 256)               229632    \n",
            "                                                                 \n",
            " batch_normalization_5 (Batc  (None, 256)              1024      \n",
            " hNormalization)                                                 \n",
            "                                                                 \n",
            " dropout_5 (Dropout)         (None, 256)               0         \n",
            "                                                                 \n",
            " dense_7 (Dense)             (None, 256)               65792     \n",
            "                                                                 \n",
            " batch_normalization_6 (Batc  (None, 256)              1024      \n",
            " hNormalization)                                                 \n",
            "                                                                 \n",
            " dropout_6 (Dropout)         (None, 256)               0         \n",
            "                                                                 \n",
            " dense_8 (Dense)             (None, 4)                 1028      \n",
            "                                                                 \n",
            "=================================================================\n",
            "Total params: 750,980\n",
            "Trainable params: 748,164\n",
            "Non-trainable params: 2,816\n",
            "_________________________________________________________________\n",
            "None\n",
            "<function relu at 0x7fc41c109dd0>\n",
            "Epoch 1/50\n",
            "1267/1267 [==============================] - 3s 2ms/step\n",
            " — val_f1: 0.698925 — val_precision: 0.822240 — val_recall: 0.702024\n",
            "\n",
            "Epoch 1: val_accuracy did not improve from 0.89373\n",
            "300/300 [==============================] - 9s 21ms/step - loss: 1.1729 - accuracy: 0.5699 - categorical_crossentropy: 1.1729 - val_loss: 1.0518 - val_accuracy: 0.7020 - val_categorical_crossentropy: 1.0518 - val_f1: 0.6989 - val_recall: 0.7020 - val_precision: 0.8222\n",
            "Epoch 2/50\n",
            "1267/1267 [==============================] - 3s 2ms/step\n",
            " — val_f1: 0.871478 — val_precision: 0.871526 — val_recall: 0.871545\n",
            "\n",
            "Epoch 2: val_accuracy did not improve from 0.89373\n",
            "300/300 [==============================] - 6s 19ms/step - loss: 0.6020 - accuracy: 0.7970 - categorical_crossentropy: 0.6020 - val_loss: 0.4134 - val_accuracy: 0.8715 - val_categorical_crossentropy: 0.4134 - val_f1: 0.8715 - val_recall: 0.8715 - val_precision: 0.8715\n",
            "Epoch 3/50\n",
            "1267/1267 [==============================] - 4s 3ms/step\n",
            " — val_f1: 0.878782 — val_precision: 0.879751 — val_recall: 0.879097\n",
            "\n",
            "Epoch 3: val_accuracy did not improve from 0.89373\n",
            "300/300 [==============================] - 9s 30ms/step - loss: 0.5004 - accuracy: 0.8359 - categorical_crossentropy: 0.5004 - val_loss: 0.3437 - val_accuracy: 0.8791 - val_categorical_crossentropy: 0.3437 - val_f1: 0.8788 - val_recall: 0.8791 - val_precision: 0.8798\n",
            "Epoch 4/50\n",
            "1267/1267 [==============================] - 5s 4ms/step\n",
            " — val_f1: 0.882754 — val_precision: 0.883554 — val_recall: 0.882996\n",
            "\n",
            "Epoch 4: val_accuracy did not improve from 0.89373\n",
            "300/300 [==============================] - 15s 51ms/step - loss: 0.4455 - accuracy: 0.8532 - categorical_crossentropy: 0.4455 - val_loss: 0.3326 - val_accuracy: 0.8830 - val_categorical_crossentropy: 0.3326 - val_f1: 0.8828 - val_recall: 0.8830 - val_precision: 0.8836\n",
            "Epoch 5/50\n",
            "1267/1267 [==============================] - 3s 2ms/step\n",
            " — val_f1: 0.883928 — val_precision: 0.884620 — val_recall: 0.884255\n",
            "\n",
            "Epoch 5: val_accuracy did not improve from 0.89373\n",
            "300/300 [==============================] - 9s 30ms/step - loss: 0.4177 - accuracy: 0.8596 - categorical_crossentropy: 0.4177 - val_loss: 0.3262 - val_accuracy: 0.8843 - val_categorical_crossentropy: 0.3262 - val_f1: 0.8839 - val_recall: 0.8843 - val_precision: 0.8846\n",
            "Epoch 6/50\n",
            "1267/1267 [==============================] - 3s 2ms/step\n",
            " — val_f1: 0.884612 — val_precision: 0.885578 — val_recall: 0.884995\n",
            "\n",
            "Epoch 6: val_accuracy did not improve from 0.89373\n",
            "300/300 [==============================] - 6s 19ms/step - loss: 0.3904 - accuracy: 0.8697 - categorical_crossentropy: 0.3904 - val_loss: 0.3224 - val_accuracy: 0.8850 - val_categorical_crossentropy: 0.3224 - val_f1: 0.8846 - val_recall: 0.8850 - val_precision: 0.8856\n",
            "Epoch 7/50\n",
            "1267/1267 [==============================] - 3s 2ms/step\n",
            " — val_f1: 0.885383 — val_precision: 0.886807 — val_recall: 0.885686\n",
            "\n",
            "Epoch 7: val_accuracy did not improve from 0.89373\n",
            "300/300 [==============================] - 6s 19ms/step - loss: 0.3712 - accuracy: 0.8731 - categorical_crossentropy: 0.3712 - val_loss: 0.3181 - val_accuracy: 0.8857 - val_categorical_crossentropy: 0.3181 - val_f1: 0.8854 - val_recall: 0.8857 - val_precision: 0.8868\n",
            "Epoch 8/50\n",
            "1267/1267 [==============================] - 3s 2ms/step\n",
            " — val_f1: 0.886726 — val_precision: 0.888105 — val_recall: 0.886994\n",
            "\n",
            "Epoch 8: val_accuracy did not improve from 0.89373\n",
            "300/300 [==============================] - 6s 19ms/step - loss: 0.3551 - accuracy: 0.8781 - categorical_crossentropy: 0.3551 - val_loss: 0.3148 - val_accuracy: 0.8870 - val_categorical_crossentropy: 0.3148 - val_f1: 0.8867 - val_recall: 0.8870 - val_precision: 0.8881\n",
            "Epoch 9/50\n",
            "1267/1267 [==============================] - 3s 2ms/step\n",
            " — val_f1: 0.887353 — val_precision: 0.888755 — val_recall: 0.887685\n",
            "\n",
            "Epoch 9: val_accuracy did not improve from 0.89373\n",
            "300/300 [==============================] - 6s 20ms/step - loss: 0.3401 - accuracy: 0.8837 - categorical_crossentropy: 0.3401 - val_loss: 0.3112 - val_accuracy: 0.8877 - val_categorical_crossentropy: 0.3112 - val_f1: 0.8874 - val_recall: 0.8877 - val_precision: 0.8888\n",
            "Epoch 10/50\n",
            "1267/1267 [==============================] - 3s 2ms/step\n",
            " — val_f1: 0.888963 — val_precision: 0.890623 — val_recall: 0.889191\n",
            "\n",
            "Epoch 10: val_accuracy did not improve from 0.89373\n",
            "300/300 [==============================] - 6s 19ms/step - loss: 0.3301 - accuracy: 0.8863 - categorical_crossentropy: 0.3301 - val_loss: 0.3099 - val_accuracy: 0.8892 - val_categorical_crossentropy: 0.3099 - val_f1: 0.8890 - val_recall: 0.8892 - val_precision: 0.8906\n",
            "Epoch 11/50\n",
            "1267/1267 [==============================] - 3s 2ms/step\n",
            " — val_f1: 0.888043 — val_precision: 0.889768 — val_recall: 0.888327\n",
            "\n",
            "Epoch 11: val_accuracy did not improve from 0.89373\n",
            "300/300 [==============================] - 9s 31ms/step - loss: 0.3199 - accuracy: 0.8899 - categorical_crossentropy: 0.3199 - val_loss: 0.3085 - val_accuracy: 0.8883 - val_categorical_crossentropy: 0.3085 - val_f1: 0.8880 - val_recall: 0.8883 - val_precision: 0.8898\n",
            "Epoch 12/50\n",
            "1267/1267 [==============================] - 3s 2ms/step\n",
            " — val_f1: 0.890006 — val_precision: 0.891298 — val_recall: 0.890276\n",
            "\n",
            "Epoch 12: val_accuracy did not improve from 0.89373\n",
            "300/300 [==============================] - 8s 26ms/step - loss: 0.3069 - accuracy: 0.8935 - categorical_crossentropy: 0.3069 - val_loss: 0.3050 - val_accuracy: 0.8903 - val_categorical_crossentropy: 0.3050 - val_f1: 0.8900 - val_recall: 0.8903 - val_precision: 0.8913\n",
            "Epoch 13/50\n",
            "1267/1267 [==============================] - 3s 2ms/step\n",
            " — val_f1: 0.889032 — val_precision: 0.890868 — val_recall: 0.889363\n",
            "\n",
            "Epoch 13: val_accuracy did not improve from 0.89373\n",
            "300/300 [==============================] - 8s 26ms/step - loss: 0.2992 - accuracy: 0.8968 - categorical_crossentropy: 0.2992 - val_loss: 0.3054 - val_accuracy: 0.8894 - val_categorical_crossentropy: 0.3054 - val_f1: 0.8890 - val_recall: 0.8894 - val_precision: 0.8909\n",
            "Epoch 14/50\n",
            "1267/1267 [==============================] - 3s 2ms/step\n",
            " — val_f1: 0.890367 — val_precision: 0.892142 — val_recall: 0.890597\n",
            "\n",
            "Epoch 14: val_accuracy did not improve from 0.89373\n",
            "300/300 [==============================] - 8s 26ms/step - loss: 0.2926 - accuracy: 0.8967 - categorical_crossentropy: 0.2926 - val_loss: 0.3036 - val_accuracy: 0.8906 - val_categorical_crossentropy: 0.3036 - val_f1: 0.8904 - val_recall: 0.8906 - val_precision: 0.8921\n",
            "Epoch 15/50\n",
            "1267/1267 [==============================] - 3s 2ms/step\n",
            " — val_f1: 0.891485 — val_precision: 0.893006 — val_recall: 0.891683\n",
            "\n",
            "Epoch 15: val_accuracy did not improve from 0.89373\n",
            "300/300 [==============================] - 8s 26ms/step - loss: 0.2822 - accuracy: 0.9002 - categorical_crossentropy: 0.2822 - val_loss: 0.3006 - val_accuracy: 0.8917 - val_categorical_crossentropy: 0.3006 - val_f1: 0.8915 - val_recall: 0.8917 - val_precision: 0.8930\n",
            "Epoch 16/50\n",
            "1267/1267 [==============================] - 3s 2ms/step\n",
            " — val_f1: 0.890898 — val_precision: 0.892341 — val_recall: 0.891115\n",
            "\n",
            "Epoch 16: val_accuracy did not improve from 0.89373\n",
            "300/300 [==============================] - 6s 20ms/step - loss: 0.2743 - accuracy: 0.9040 - categorical_crossentropy: 0.2743 - val_loss: 0.3008 - val_accuracy: 0.8911 - val_categorical_crossentropy: 0.3008 - val_f1: 0.8909 - val_recall: 0.8911 - val_precision: 0.8923\n",
            "Epoch 17/50\n",
            "1267/1267 [==============================] - 3s 2ms/step\n",
            " — val_f1: 0.892186 — val_precision: 0.894015 — val_recall: 0.892423\n",
            "\n",
            "Epoch 17: val_accuracy did not improve from 0.89373\n",
            "300/300 [==============================] - 6s 19ms/step - loss: 0.2674 - accuracy: 0.9053 - categorical_crossentropy: 0.2674 - val_loss: 0.3005 - val_accuracy: 0.8924 - val_categorical_crossentropy: 0.3005 - val_f1: 0.8922 - val_recall: 0.8924 - val_precision: 0.8940\n",
            "Epoch 18/50\n",
            "1267/1267 [==============================] - 3s 2ms/step\n",
            " — val_f1: 0.892097 — val_precision: 0.893662 — val_recall: 0.892325\n",
            "\n",
            "Epoch 18: val_accuracy did not improve from 0.89373\n",
            "300/300 [==============================] - 8s 26ms/step - loss: 0.2614 - accuracy: 0.9090 - categorical_crossentropy: 0.2614 - val_loss: 0.2996 - val_accuracy: 0.8923 - val_categorical_crossentropy: 0.2996 - val_f1: 0.8921 - val_recall: 0.8923 - val_precision: 0.8937\n",
            "Epoch 19/50\n",
            "1267/1267 [==============================] - 3s 2ms/step\n",
            " — val_f1: 0.894009 — val_precision: 0.895045 — val_recall: 0.894274\n",
            "\n",
            "Epoch 19: val_accuracy improved from 0.89373 to 0.89427, saving model to checkpoints/weights.hdf5\n",
            "300/300 [==============================] - 6s 19ms/step - loss: 0.2499 - accuracy: 0.9112 - categorical_crossentropy: 0.2499 - val_loss: 0.2981 - val_accuracy: 0.8943 - val_categorical_crossentropy: 0.2981 - val_f1: 0.8940 - val_recall: 0.8943 - val_precision: 0.8950\n",
            "Epoch 20/50\n",
            "1267/1267 [==============================] - 3s 2ms/step\n",
            " — val_f1: 0.894524 — val_precision: 0.895785 — val_recall: 0.894743\n",
            "\n",
            "Epoch 20: val_accuracy improved from 0.89427 to 0.89474, saving model to checkpoints/weights.hdf5\n",
            "300/300 [==============================] - 6s 19ms/step - loss: 0.2426 - accuracy: 0.9127 - categorical_crossentropy: 0.2426 - val_loss: 0.2981 - val_accuracy: 0.8947 - val_categorical_crossentropy: 0.2981 - val_f1: 0.8945 - val_recall: 0.8947 - val_precision: 0.8958\n",
            "Epoch 21/50\n",
            "1267/1267 [==============================] - 3s 2ms/step\n",
            " — val_f1: 0.894476 — val_precision: 0.895670 — val_recall: 0.894719\n",
            "\n",
            "Epoch 21: val_accuracy did not improve from 0.89474\n",
            "300/300 [==============================] - 6s 19ms/step - loss: 0.2351 - accuracy: 0.9158 - categorical_crossentropy: 0.2351 - val_loss: 0.2982 - val_accuracy: 0.8947 - val_categorical_crossentropy: 0.2982 - val_f1: 0.8945 - val_recall: 0.8947 - val_precision: 0.8957\n",
            "Epoch 22/50\n",
            "1267/1267 [==============================] - 3s 2ms/step\n",
            " — val_f1: 0.895686 — val_precision: 0.896776 — val_recall: 0.895854\n",
            "\n",
            "Epoch 22: val_accuracy improved from 0.89474 to 0.89585, saving model to checkpoints/weights.hdf5\n",
            "300/300 [==============================] - 6s 19ms/step - loss: 0.2246 - accuracy: 0.9192 - categorical_crossentropy: 0.2246 - val_loss: 0.2991 - val_accuracy: 0.8959 - val_categorical_crossentropy: 0.2991 - val_f1: 0.8957 - val_recall: 0.8959 - val_precision: 0.8968\n",
            "Epoch 23/50\n",
            "1267/1267 [==============================] - 3s 2ms/step\n",
            " — val_f1: 0.894128 — val_precision: 0.895768 — val_recall: 0.894250\n",
            "\n",
            "Epoch 23: val_accuracy did not improve from 0.89585\n",
            "300/300 [==============================] - 5s 18ms/step - loss: 0.2193 - accuracy: 0.9216 - categorical_crossentropy: 0.2193 - val_loss: 0.3011 - val_accuracy: 0.8942 - val_categorical_crossentropy: 0.3011 - val_f1: 0.8941 - val_recall: 0.8942 - val_precision: 0.8958\n",
            "Epoch 24/50\n",
            "1267/1267 [==============================] - 3s 2ms/step\n",
            " — val_f1: 0.896674 — val_precision: 0.897602 — val_recall: 0.896816\n",
            "\n",
            "Epoch 24: val_accuracy improved from 0.89585 to 0.89682, saving model to checkpoints/weights.hdf5\n",
            "300/300 [==============================] - 6s 20ms/step - loss: 0.2091 - accuracy: 0.9251 - categorical_crossentropy: 0.2091 - val_loss: 0.3015 - val_accuracy: 0.8968 - val_categorical_crossentropy: 0.3015 - val_f1: 0.8967 - val_recall: 0.8968 - val_precision: 0.8976\n",
            "Epoch 25/50\n",
            "1267/1267 [==============================] - 3s 2ms/step\n",
            " — val_f1: 0.895454 — val_precision: 0.896565 — val_recall: 0.895706\n",
            "\n",
            "Epoch 25: val_accuracy did not improve from 0.89682\n",
            "300/300 [==============================] - 6s 20ms/step - loss: 0.2009 - accuracy: 0.9261 - categorical_crossentropy: 0.2009 - val_loss: 0.3053 - val_accuracy: 0.8957 - val_categorical_crossentropy: 0.3053 - val_f1: 0.8955 - val_recall: 0.8957 - val_precision: 0.8966\n",
            "Epoch 26/50\n",
            "1267/1267 [==============================] - 3s 2ms/step\n",
            " — val_f1: 0.896730 — val_precision: 0.897644 — val_recall: 0.896915\n",
            "\n",
            "Epoch 26: val_accuracy improved from 0.89682 to 0.89692, saving model to checkpoints/weights.hdf5\n",
            "300/300 [==============================] - 9s 30ms/step - loss: 0.1955 - accuracy: 0.9291 - categorical_crossentropy: 0.1955 - val_loss: 0.3068 - val_accuracy: 0.8969 - val_categorical_crossentropy: 0.3068 - val_f1: 0.8967 - val_recall: 0.8969 - val_precision: 0.8976\n",
            "Epoch 27/50\n",
            "1267/1267 [==============================] - 3s 2ms/step\n",
            " — val_f1: 0.896522 — val_precision: 0.897386 — val_recall: 0.896644\n",
            "\n",
            "Epoch 27: val_accuracy did not improve from 0.89692\n",
            "300/300 [==============================] - 6s 19ms/step - loss: 0.1881 - accuracy: 0.9322 - categorical_crossentropy: 0.1881 - val_loss: 0.3087 - val_accuracy: 0.8966 - val_categorical_crossentropy: 0.3087 - val_f1: 0.8965 - val_recall: 0.8966 - val_precision: 0.8974\n",
            "Epoch 28/50\n",
            "1267/1267 [==============================] - 3s 2ms/step\n",
            " — val_f1: 0.896256 — val_precision: 0.897385 — val_recall: 0.896422\n",
            "\n",
            "Epoch 28: val_accuracy did not improve from 0.89692\n",
            "300/300 [==============================] - 6s 19ms/step - loss: 0.1784 - accuracy: 0.9346 - categorical_crossentropy: 0.1784 - val_loss: 0.3142 - val_accuracy: 0.8964 - val_categorical_crossentropy: 0.3142 - val_f1: 0.8963 - val_recall: 0.8964 - val_precision: 0.8974\n",
            "Epoch 29/50\n",
            "1267/1267 [==============================] - 3s 2ms/step\n",
            " — val_f1: 0.895875 — val_precision: 0.896815 — val_recall: 0.896150\n",
            "\n",
            "Epoch 29: val_accuracy did not improve from 0.89692\n",
            "300/300 [==============================] - 8s 26ms/step - loss: 0.1723 - accuracy: 0.9355 - categorical_crossentropy: 0.1723 - val_loss: 0.3191 - val_accuracy: 0.8962 - val_categorical_crossentropy: 0.3191 - val_f1: 0.8959 - val_recall: 0.8962 - val_precision: 0.8968\n",
            "Epoch 30/50\n",
            "1267/1267 [==============================] - 3s 2ms/step\n",
            " — val_f1: 0.896283 — val_precision: 0.897192 — val_recall: 0.896545\n",
            "\n",
            "Epoch 30: val_accuracy did not improve from 0.89692\n",
            "300/300 [==============================] - 6s 20ms/step - loss: 0.1659 - accuracy: 0.9402 - categorical_crossentropy: 0.1659 - val_loss: 0.3227 - val_accuracy: 0.8965 - val_categorical_crossentropy: 0.3227 - val_f1: 0.8963 - val_recall: 0.8965 - val_precision: 0.8972\n",
            "Epoch 31/50\n",
            "1267/1267 [==============================] - 3s 2ms/step\n",
            " — val_f1: 0.894875 — val_precision: 0.895828 — val_recall: 0.895114\n",
            "\n",
            "Epoch 31: val_accuracy did not improve from 0.89692\n",
            "300/300 [==============================] - 6s 20ms/step - loss: 0.1572 - accuracy: 0.9421 - categorical_crossentropy: 0.1572 - val_loss: 0.3302 - val_accuracy: 0.8951 - val_categorical_crossentropy: 0.3302 - val_f1: 0.8949 - val_recall: 0.8951 - val_precision: 0.8958\n",
            "Epoch 32/50\n",
            "1267/1267 [==============================] - 3s 2ms/step\n",
            " — val_f1: 0.895495 — val_precision: 0.896288 — val_recall: 0.895706\n",
            "\n",
            "Epoch 32: val_accuracy did not improve from 0.89692\n",
            "300/300 [==============================] - 8s 26ms/step - loss: 0.1513 - accuracy: 0.9445 - categorical_crossentropy: 0.1513 - val_loss: 0.3342 - val_accuracy: 0.8957 - val_categorical_crossentropy: 0.3342 - val_f1: 0.8955 - val_recall: 0.8957 - val_precision: 0.8963\n",
            "Epoch 33/50\n",
            "1267/1267 [==============================] - 3s 2ms/step\n",
            " — val_f1: 0.895188 — val_precision: 0.896131 — val_recall: 0.895410\n",
            "\n",
            "Epoch 33: val_accuracy did not improve from 0.89692\n",
            "300/300 [==============================] - 8s 26ms/step - loss: 0.1459 - accuracy: 0.9463 - categorical_crossentropy: 0.1459 - val_loss: 0.3380 - val_accuracy: 0.8954 - val_categorical_crossentropy: 0.3380 - val_f1: 0.8952 - val_recall: 0.8954 - val_precision: 0.8961\n",
            "Epoch 34/50\n",
            "1267/1267 [==============================] - 4s 3ms/step\n",
            " — val_f1: 0.894956 — val_precision: 0.895773 — val_recall: 0.895138\n",
            "\n",
            "Epoch 34: val_accuracy did not improve from 0.89692\n",
            "300/300 [==============================] - 8s 27ms/step - loss: 0.1388 - accuracy: 0.9486 - categorical_crossentropy: 0.1388 - val_loss: 0.3442 - val_accuracy: 0.8951 - val_categorical_crossentropy: 0.3442 - val_f1: 0.8950 - val_recall: 0.8951 - val_precision: 0.8958\n",
            "Epoch 35/50\n",
            "1267/1267 [==============================] - 3s 2ms/step\n",
            " — val_f1: 0.894455 — val_precision: 0.895289 — val_recall: 0.894694\n",
            "\n",
            "Epoch 35: val_accuracy did not improve from 0.89692\n",
            "300/300 [==============================] - 6s 20ms/step - loss: 0.1365 - accuracy: 0.9490 - categorical_crossentropy: 0.1365 - val_loss: 0.3494 - val_accuracy: 0.8947 - val_categorical_crossentropy: 0.3494 - val_f1: 0.8945 - val_recall: 0.8947 - val_precision: 0.8953\n",
            "Epoch 36/50\n",
            "1267/1267 [==============================] - 3s 2ms/step\n",
            " — val_f1: 0.895646 — val_precision: 0.896595 — val_recall: 0.895805\n",
            "\n",
            "Epoch 36: val_accuracy did not improve from 0.89692\n",
            "300/300 [==============================] - 6s 20ms/step - loss: 0.1327 - accuracy: 0.9511 - categorical_crossentropy: 0.1327 - val_loss: 0.3551 - val_accuracy: 0.8958 - val_categorical_crossentropy: 0.3551 - val_f1: 0.8956 - val_recall: 0.8958 - val_precision: 0.8966\n",
            "Epoch 37/50\n",
            "1267/1267 [==============================] - 3s 2ms/step\n",
            " — val_f1: 0.895164 — val_precision: 0.895823 — val_recall: 0.895385\n",
            "\n",
            "Epoch 37: val_accuracy did not improve from 0.89692\n",
            "300/300 [==============================] - 8s 26ms/step - loss: 0.1268 - accuracy: 0.9532 - categorical_crossentropy: 0.1268 - val_loss: 0.3577 - val_accuracy: 0.8954 - val_categorical_crossentropy: 0.3577 - val_f1: 0.8952 - val_recall: 0.8954 - val_precision: 0.8958\n",
            "Epoch 38/50\n",
            "1267/1267 [==============================] - 3s 2ms/step\n",
            " — val_f1: 0.894752 — val_precision: 0.895605 — val_recall: 0.894891\n",
            "\n",
            "Epoch 38: val_accuracy did not improve from 0.89692\n",
            "300/300 [==============================] - 6s 19ms/step - loss: 0.1200 - accuracy: 0.9555 - categorical_crossentropy: 0.1200 - val_loss: 0.3637 - val_accuracy: 0.8949 - val_categorical_crossentropy: 0.3637 - val_f1: 0.8948 - val_recall: 0.8949 - val_precision: 0.8956\n",
            "Epoch 39/50\n",
            "1267/1267 [==============================] - 3s 2ms/step\n",
            " — val_f1: 0.894520 — val_precision: 0.895093 — val_recall: 0.894719\n",
            "\n",
            "Epoch 39: val_accuracy did not improve from 0.89692\n",
            "300/300 [==============================] - 6s 20ms/step - loss: 0.1172 - accuracy: 0.9559 - categorical_crossentropy: 0.1172 - val_loss: 0.3693 - val_accuracy: 0.8947 - val_categorical_crossentropy: 0.3693 - val_f1: 0.8945 - val_recall: 0.8947 - val_precision: 0.8951\n",
            "Epoch 40/50\n",
            "1267/1267 [==============================] - 3s 2ms/step\n",
            " — val_f1: 0.894901 — val_precision: 0.895834 — val_recall: 0.895015\n",
            "\n",
            "Epoch 40: val_accuracy did not improve from 0.89692\n",
            "300/300 [==============================] - 6s 20ms/step - loss: 0.1112 - accuracy: 0.9581 - categorical_crossentropy: 0.1112 - val_loss: 0.3741 - val_accuracy: 0.8950 - val_categorical_crossentropy: 0.3741 - val_f1: 0.8949 - val_recall: 0.8950 - val_precision: 0.8958\n",
            "Epoch 41/50\n",
            "1267/1267 [==============================] - 3s 2ms/step\n",
            " — val_f1: 0.894260 — val_precision: 0.895066 — val_recall: 0.894497\n",
            "\n",
            "Epoch 41: val_accuracy did not improve from 0.89692\n",
            "300/300 [==============================] - 8s 26ms/step - loss: 0.1069 - accuracy: 0.9603 - categorical_crossentropy: 0.1069 - val_loss: 0.3833 - val_accuracy: 0.8945 - val_categorical_crossentropy: 0.3833 - val_f1: 0.8943 - val_recall: 0.8945 - val_precision: 0.8951\n",
            "Epoch 42/50\n",
            "1267/1267 [==============================] - 3s 2ms/step\n",
            " — val_f1: 0.893355 — val_precision: 0.894072 — val_recall: 0.893509\n",
            "\n",
            "Epoch 42: val_accuracy did not improve from 0.89692\n",
            "300/300 [==============================] - 8s 26ms/step - loss: 0.1028 - accuracy: 0.9613 - categorical_crossentropy: 0.1028 - val_loss: 0.3887 - val_accuracy: 0.8935 - val_categorical_crossentropy: 0.3887 - val_f1: 0.8934 - val_recall: 0.8935 - val_precision: 0.8941\n",
            "Epoch 43/50\n",
            "1267/1267 [==============================] - 3s 2ms/step\n",
            " — val_f1: 0.894254 — val_precision: 0.894934 — val_recall: 0.894521\n",
            "\n",
            "Epoch 43: val_accuracy did not improve from 0.89692\n",
            "300/300 [==============================] - 6s 20ms/step - loss: 0.0993 - accuracy: 0.9628 - categorical_crossentropy: 0.0993 - val_loss: 0.3928 - val_accuracy: 0.8945 - val_categorical_crossentropy: 0.3928 - val_f1: 0.8943 - val_recall: 0.8945 - val_precision: 0.8949\n",
            "Epoch 44/50\n",
            "1267/1267 [==============================] - 3s 2ms/step\n",
            " — val_f1: 0.894185 — val_precision: 0.894962 — val_recall: 0.894398\n",
            "\n",
            "Epoch 44: val_accuracy did not improve from 0.89692\n",
            "300/300 [==============================] - 8s 26ms/step - loss: 0.0961 - accuracy: 0.9635 - categorical_crossentropy: 0.0961 - val_loss: 0.4000 - val_accuracy: 0.8944 - val_categorical_crossentropy: 0.4000 - val_f1: 0.8942 - val_recall: 0.8944 - val_precision: 0.8950\n",
            "Epoch 45/50\n",
            "1267/1267 [==============================] - 3s 2ms/step\n",
            " — val_f1: 0.893345 — val_precision: 0.893877 — val_recall: 0.893608\n",
            "\n",
            "Epoch 45: val_accuracy did not improve from 0.89692\n",
            "300/300 [==============================] - 6s 20ms/step - loss: 0.0938 - accuracy: 0.9644 - categorical_crossentropy: 0.0938 - val_loss: 0.4059 - val_accuracy: 0.8936 - val_categorical_crossentropy: 0.4059 - val_f1: 0.8933 - val_recall: 0.8936 - val_precision: 0.8939\n",
            "Epoch 46/50\n",
            "1267/1267 [==============================] - 3s 2ms/step\n",
            " — val_f1: 0.893287 — val_precision: 0.894095 — val_recall: 0.893559\n",
            "\n",
            "Epoch 46: val_accuracy did not improve from 0.89692\n",
            "300/300 [==============================] - 8s 27ms/step - loss: 0.0914 - accuracy: 0.9659 - categorical_crossentropy: 0.0914 - val_loss: 0.4119 - val_accuracy: 0.8936 - val_categorical_crossentropy: 0.4119 - val_f1: 0.8933 - val_recall: 0.8936 - val_precision: 0.8941\n",
            "Epoch 47/50\n",
            "1267/1267 [==============================] - 3s 2ms/step\n",
            " — val_f1: 0.893381 — val_precision: 0.893953 — val_recall: 0.893608\n",
            "\n",
            "Epoch 47: val_accuracy did not improve from 0.89692\n",
            "300/300 [==============================] - 6s 20ms/step - loss: 0.0875 - accuracy: 0.9674 - categorical_crossentropy: 0.0875 - val_loss: 0.4164 - val_accuracy: 0.8936 - val_categorical_crossentropy: 0.4164 - val_f1: 0.8934 - val_recall: 0.8936 - val_precision: 0.8940\n",
            "Epoch 48/50\n",
            "1267/1267 [==============================] - 3s 2ms/step\n",
            " — val_f1: 0.894586 — val_precision: 0.895039 — val_recall: 0.894743\n",
            "\n",
            "Epoch 48: val_accuracy did not improve from 0.89692\n",
            "300/300 [==============================] - 8s 26ms/step - loss: 0.0847 - accuracy: 0.9683 - categorical_crossentropy: 0.0847 - val_loss: 0.4202 - val_accuracy: 0.8947 - val_categorical_crossentropy: 0.4202 - val_f1: 0.8946 - val_recall: 0.8947 - val_precision: 0.8950\n",
            "Epoch 49/50\n",
            "1267/1267 [==============================] - 3s 2ms/step\n",
            " — val_f1: 0.894087 — val_precision: 0.895150 — val_recall: 0.894200\n",
            "\n",
            "Epoch 49: val_accuracy did not improve from 0.89692\n",
            "300/300 [==============================] - 6s 20ms/step - loss: 0.0828 - accuracy: 0.9687 - categorical_crossentropy: 0.0828 - val_loss: 0.4295 - val_accuracy: 0.8942 - val_categorical_crossentropy: 0.4295 - val_f1: 0.8941 - val_recall: 0.8942 - val_precision: 0.8952\n",
            "Epoch 50/50\n",
            "1267/1267 [==============================] - 3s 2ms/step\n",
            " — val_f1: 0.893687 — val_precision: 0.894404 — val_recall: 0.893904\n",
            "\n",
            "Epoch 50: val_accuracy did not improve from 0.89692\n",
            "300/300 [==============================] - 8s 26ms/step - loss: 0.0806 - accuracy: 0.9694 - categorical_crossentropy: 0.0806 - val_loss: 0.4318 - val_accuracy: 0.8939 - val_categorical_crossentropy: 0.4318 - val_f1: 0.8937 - val_recall: 0.8939 - val_precision: 0.8944\n"
          ]
        }
      ]
    },
    {
      "cell_type": "code",
      "source": [
        "val_acc_per_epoch = history.history['val_accuracy']\n",
        "best_epoch = val_acc_per_epoch.index(max(val_acc_per_epoch)) + 1\n",
        "print('Best epoch: %d' % (best_epoch,))"
      ],
      "metadata": {
        "id": "wvyfjKetdIwX",
        "colab": {
          "base_uri": "https://localhost:8080/"
        },
        "outputId": "05248498-b0ac-4394-d010-cad8eb47fd49"
      },
      "execution_count": null,
      "outputs": [
        {
          "output_type": "stream",
          "name": "stdout",
          "text": [
            "Best epoch: 26\n"
          ]
        }
      ]
    },
    {
      "cell_type": "code",
      "source": [
        "# summarize history for accuracy\n",
        "plt.rcParams[\"figure.figsize\"] = (15,8)\n",
        "# plt.rcParams['axes.facecolor'] = 'white'\n",
        "plt.style.use('seaborn-whitegrid')\n",
        "\n",
        "plt.plot(history.history['accuracy'])\n",
        "plt.plot(history.history['val_accuracy'])\n",
        "plt.title(\"Model's accuracy\")\n",
        "plt.ylabel('Accuracy')\n",
        "plt.xlabel('Epoch')\n",
        "plt.legend(['train', 'dev'], loc='upper left')\n",
        "plt.show();\n",
        "\n",
        "# summarize history for loss\n",
        "plt.plot(history.history['loss'])\n",
        "plt.plot(history.history['val_loss'])\n",
        "plt.title(\"Model's loss\")\n",
        "plt.ylabel('Loss')\n",
        "plt.xlabel('Epoch')\n",
        "plt.legend(['train', 'dev'], loc='upper right')\n",
        "plt.show();"
      ],
      "metadata": {
        "id": "tDPIbmhQcWYG",
        "colab": {
          "base_uri": "https://localhost:8080/",
          "height": 999
        },
        "outputId": "7b02d5af-6cc4-40b3-8089-6d9f60c7a62c"
      },
      "execution_count": null,
      "outputs": [
        {
          "output_type": "display_data",
          "data": {
            "text/plain": [
              "<Figure size 1080x576 with 1 Axes>"
            ],
            "image/png": "[encoded data removed]"
          },
          "metadata": {}
        },
        {
          "output_type": "display_data",
          "data": {
            "text/plain": [
              "<Figure size 1080x576 with 1 Axes>"
            ],
            "image/png": "[encoded data removed]"
          },
          "metadata": {}
        }
      ]
    },
    {
      "cell_type": "code",
      "source": [
        "hypermodel = tuner_t2.hypermodel.build(best_hps)\n",
        "\n",
        "# Retrain the model\n",
        "hypermodel.fit(x_train_svd, \n",
        "    y_train_1_hot,\n",
        "    validation_data=(x_dev_svd, y_val_1_hot),\n",
        "    batch_size=256,\n",
        "    epochs=best_epoch,\n",
        "    shuffle=True,\n",
        "    callbacks=[Metrics(valid_data=(x_dev_svd, y_val_1_hot)), checkpoint])"
      ],
      "metadata": {
        "id": "ENH7KopydVmu",
        "colab": {
          "base_uri": "https://localhost:8080/"
        },
        "outputId": "6c439f4a-803d-4f51-8a73-e5bd809e8ef4"
      },
      "execution_count": null,
      "outputs": [
        {
          "output_type": "stream",
          "name": "stdout",
          "text": [
            "units_layer_0: 896 neurons.\n",
            "units_layer_1: 256 neurons.\n",
            "units_layer_2: 64 neurons.\n",
            "Epoch 1/26\n",
            "1267/1267 [==============================] - 3s 2ms/step\n",
            " — val_f1: 0.583382 — val_precision: 0.796282 — val_recall: 0.574235\n",
            "\n",
            "Epoch 1: val_accuracy did not improve from 0.89692\n",
            "300/300 [==============================] - 11s 27ms/step - loss: 1.1664 - accuracy: 0.5729 - categorical_crossentropy: 1.1664 - val_loss: 1.0694 - val_accuracy: 0.5742 - val_categorical_crossentropy: 1.0694 - val_f1: 0.5834 - val_recall: 0.5742 - val_precision: 0.7963\n",
            "Epoch 2/26\n",
            "1267/1267 [==============================] - 3s 2ms/step\n",
            " — val_f1: 0.866731 — val_precision: 0.868497 — val_recall: 0.866856\n",
            "\n",
            "Epoch 2: val_accuracy did not improve from 0.89692\n",
            "300/300 [==============================] - 8s 26ms/step - loss: 0.6039 - accuracy: 0.7974 - categorical_crossentropy: 0.6039 - val_loss: 0.4220 - val_accuracy: 0.8669 - val_categorical_crossentropy: 0.4220 - val_f1: 0.8667 - val_recall: 0.8669 - val_precision: 0.8685\n",
            "Epoch 3/26\n",
            "1267/1267 [==============================] - 3s 2ms/step\n",
            " — val_f1: 0.878942 — val_precision: 0.880043 — val_recall: 0.879245\n",
            "\n",
            "Epoch 3: val_accuracy did not improve from 0.89692\n",
            "300/300 [==============================] - 8s 26ms/step - loss: 0.5043 - accuracy: 0.8355 - categorical_crossentropy: 0.5043 - val_loss: 0.3456 - val_accuracy: 0.8792 - val_categorical_crossentropy: 0.3456 - val_f1: 0.8789 - val_recall: 0.8792 - val_precision: 0.8800\n",
            "Epoch 4/26\n",
            "1267/1267 [==============================] - 3s 2ms/step\n",
            " — val_f1: 0.881410 — val_precision: 0.882189 — val_recall: 0.881688\n",
            "\n",
            "Epoch 4: val_accuracy did not improve from 0.89692\n",
            "300/300 [==============================] - 6s 19ms/step - loss: 0.4507 - accuracy: 0.8519 - categorical_crossentropy: 0.4507 - val_loss: 0.3343 - val_accuracy: 0.8817 - val_categorical_crossentropy: 0.3343 - val_f1: 0.8814 - val_recall: 0.8817 - val_precision: 0.8822\n",
            "Epoch 5/26\n",
            "1267/1267 [==============================] - 3s 2ms/step\n",
            " — val_f1: 0.882734 — val_precision: 0.883940 — val_recall: 0.883021\n",
            "\n",
            "Epoch 5: val_accuracy did not improve from 0.89692\n",
            "300/300 [==============================] - 6s 19ms/step - loss: 0.4144 - accuracy: 0.8615 - categorical_crossentropy: 0.4144 - val_loss: 0.3287 - val_accuracy: 0.8830 - val_categorical_crossentropy: 0.3287 - val_f1: 0.8827 - val_recall: 0.8830 - val_precision: 0.8839\n",
            "Epoch 6/26\n",
            "1267/1267 [==============================] - 3s 2ms/step\n",
            " — val_f1: 0.883551 — val_precision: 0.885594 — val_recall: 0.883860\n",
            "\n",
            "Epoch 6: val_accuracy did not improve from 0.89692\n",
            "300/300 [==============================] - 6s 19ms/step - loss: 0.3897 - accuracy: 0.8699 - categorical_crossentropy: 0.3897 - val_loss: 0.3240 - val_accuracy: 0.8839 - val_categorical_crossentropy: 0.3240 - val_f1: 0.8836 - val_recall: 0.8839 - val_precision: 0.8856\n",
            "Epoch 7/26\n",
            "1267/1267 [==============================] - 3s 3ms/step\n",
            " — val_f1: 0.886318 — val_precision: 0.887487 — val_recall: 0.886550\n",
            "\n",
            "Epoch 7: val_accuracy did not improve from 0.89692\n",
            "300/300 [==============================] - 8s 26ms/step - loss: 0.3733 - accuracy: 0.8734 - categorical_crossentropy: 0.3733 - val_loss: 0.3169 - val_accuracy: 0.8865 - val_categorical_crossentropy: 0.3169 - val_f1: 0.8863 - val_recall: 0.8865 - val_precision: 0.8875\n",
            "Epoch 8/26\n",
            "1267/1267 [==============================] - 3s 2ms/step\n",
            " — val_f1: 0.886893 — val_precision: 0.888132 — val_recall: 0.887192\n",
            "\n",
            "Epoch 8: val_accuracy did not improve from 0.89692\n",
            "300/300 [==============================] - 6s 20ms/step - loss: 0.3561 - accuracy: 0.8793 - categorical_crossentropy: 0.3561 - val_loss: 0.3143 - val_accuracy: 0.8872 - val_categorical_crossentropy: 0.3143 - val_f1: 0.8869 - val_recall: 0.8872 - val_precision: 0.8881\n",
            "Epoch 9/26\n",
            "1267/1267 [==============================] - 3s 2ms/step\n",
            " — val_f1: 0.887619 — val_precision: 0.888789 — val_recall: 0.887858\n",
            "\n",
            "Epoch 9: val_accuracy did not improve from 0.89692\n",
            "300/300 [==============================] - 8s 26ms/step - loss: 0.3427 - accuracy: 0.8833 - categorical_crossentropy: 0.3427 - val_loss: 0.3106 - val_accuracy: 0.8879 - val_categorical_crossentropy: 0.3106 - val_f1: 0.8876 - val_recall: 0.8879 - val_precision: 0.8888\n",
            "Epoch 10/26\n",
            "1267/1267 [==============================] - 3s 2ms/step\n",
            " — val_f1: 0.888192 — val_precision: 0.889280 — val_recall: 0.888475\n",
            "\n",
            "Epoch 10: val_accuracy did not improve from 0.89692\n",
            "300/300 [==============================] - 8s 27ms/step - loss: 0.3305 - accuracy: 0.8866 - categorical_crossentropy: 0.3305 - val_loss: 0.3078 - val_accuracy: 0.8885 - val_categorical_crossentropy: 0.3078 - val_f1: 0.8882 - val_recall: 0.8885 - val_precision: 0.8893\n",
            "Epoch 11/26\n",
            "1267/1267 [==============================] - 3s 2ms/step\n",
            " — val_f1: 0.888253 — val_precision: 0.889730 — val_recall: 0.888549\n",
            "\n",
            "Epoch 11: val_accuracy did not improve from 0.89692\n",
            "300/300 [==============================] - 6s 20ms/step - loss: 0.3193 - accuracy: 0.8885 - categorical_crossentropy: 0.3193 - val_loss: 0.3067 - val_accuracy: 0.8885 - val_categorical_crossentropy: 0.3067 - val_f1: 0.8883 - val_recall: 0.8885 - val_precision: 0.8897\n",
            "Epoch 12/26\n",
            "1267/1267 [==============================] - 3s 2ms/step\n",
            " — val_f1: 0.888479 — val_precision: 0.890096 — val_recall: 0.888771\n",
            "\n",
            "Epoch 12: val_accuracy did not improve from 0.89692\n",
            "300/300 [==============================] - 8s 27ms/step - loss: 0.3095 - accuracy: 0.8933 - categorical_crossentropy: 0.3095 - val_loss: 0.3051 - val_accuracy: 0.8888 - val_categorical_crossentropy: 0.3051 - val_f1: 0.8885 - val_recall: 0.8888 - val_precision: 0.8901\n",
            "Epoch 13/26\n",
            "1267/1267 [==============================] - 3s 2ms/step\n",
            " — val_f1: 0.889943 — val_precision: 0.891340 — val_recall: 0.890178\n",
            "\n",
            "Epoch 13: val_accuracy did not improve from 0.89692\n",
            "300/300 [==============================] - 6s 19ms/step - loss: 0.3008 - accuracy: 0.8964 - categorical_crossentropy: 0.3008 - val_loss: 0.3022 - val_accuracy: 0.8902 - val_categorical_crossentropy: 0.3022 - val_f1: 0.8899 - val_recall: 0.8902 - val_precision: 0.8913\n",
            "Epoch 14/26\n",
            "1267/1267 [==============================] - 3s 2ms/step\n",
            " — val_f1: 0.891387 — val_precision: 0.892271 — val_recall: 0.891634\n",
            "\n",
            "Epoch 14: val_accuracy did not improve from 0.89692\n",
            "300/300 [==============================] - 8s 26ms/step - loss: 0.2915 - accuracy: 0.8982 - categorical_crossentropy: 0.2915 - val_loss: 0.3003 - val_accuracy: 0.8916 - val_categorical_crossentropy: 0.3003 - val_f1: 0.8914 - val_recall: 0.8916 - val_precision: 0.8923\n",
            "Epoch 15/26\n",
            "1267/1267 [==============================] - 3s 2ms/step\n",
            " — val_f1: 0.889194 — val_precision: 0.891075 — val_recall: 0.889561\n",
            "\n",
            "Epoch 15: val_accuracy did not improve from 0.89692\n",
            "300/300 [==============================] - 8s 27ms/step - loss: 0.2813 - accuracy: 0.9013 - categorical_crossentropy: 0.2813 - val_loss: 0.3029 - val_accuracy: 0.8896 - val_categorical_crossentropy: 0.3029 - val_f1: 0.8892 - val_recall: 0.8896 - val_precision: 0.8911\n",
            "Epoch 16/26\n",
            "1267/1267 [==============================] - 3s 2ms/step\n",
            " — val_f1: 0.890720 — val_precision: 0.891703 — val_recall: 0.891017\n",
            "\n",
            "Epoch 16: val_accuracy did not improve from 0.89692\n",
            "300/300 [==============================] - 6s 19ms/step - loss: 0.2725 - accuracy: 0.9042 - categorical_crossentropy: 0.2725 - val_loss: 0.2997 - val_accuracy: 0.8910 - val_categorical_crossentropy: 0.2997 - val_f1: 0.8907 - val_recall: 0.8910 - val_precision: 0.8917\n",
            "Epoch 17/26\n",
            "1267/1267 [==============================] - 3s 2ms/step\n",
            " — val_f1: 0.891218 — val_precision: 0.892740 — val_recall: 0.891510\n",
            "\n",
            "Epoch 17: val_accuracy did not improve from 0.89692\n",
            "300/300 [==============================] - 6s 19ms/step - loss: 0.2670 - accuracy: 0.9057 - categorical_crossentropy: 0.2670 - val_loss: 0.2998 - val_accuracy: 0.8915 - val_categorical_crossentropy: 0.2998 - val_f1: 0.8912 - val_recall: 0.8915 - val_precision: 0.8927\n",
            "Epoch 18/26\n",
            "1267/1267 [==============================] - 3s 2ms/step\n",
            " — val_f1: 0.891440 — val_precision: 0.893430 — val_recall: 0.891782\n",
            "\n",
            "Epoch 18: val_accuracy did not improve from 0.89692\n",
            "300/300 [==============================] - 6s 20ms/step - loss: 0.2570 - accuracy: 0.9095 - categorical_crossentropy: 0.2570 - val_loss: 0.3016 - val_accuracy: 0.8918 - val_categorical_crossentropy: 0.3016 - val_f1: 0.8914 - val_recall: 0.8918 - val_precision: 0.8934\n",
            "Epoch 19/26\n",
            "1267/1267 [==============================] - 3s 2ms/step\n",
            " — val_f1: 0.892510 — val_precision: 0.893799 — val_recall: 0.892769\n",
            "\n",
            "Epoch 19: val_accuracy did not improve from 0.89692\n",
            "300/300 [==============================] - 6s 20ms/step - loss: 0.2488 - accuracy: 0.9107 - categorical_crossentropy: 0.2488 - val_loss: 0.2991 - val_accuracy: 0.8928 - val_categorical_crossentropy: 0.2991 - val_f1: 0.8925 - val_recall: 0.8928 - val_precision: 0.8938\n",
            "Epoch 20/26\n",
            "1267/1267 [==============================] - 3s 2ms/step\n",
            " — val_f1: 0.893140 — val_precision: 0.894266 — val_recall: 0.893386\n",
            "\n",
            "Epoch 20: val_accuracy did not improve from 0.89692\n",
            "300/300 [==============================] - 6s 20ms/step - loss: 0.2391 - accuracy: 0.9147 - categorical_crossentropy: 0.2391 - val_loss: 0.2997 - val_accuracy: 0.8934 - val_categorical_crossentropy: 0.2997 - val_f1: 0.8931 - val_recall: 0.8934 - val_precision: 0.8943\n",
            "Epoch 21/26\n",
            "1267/1267 [==============================] - 3s 2ms/step\n",
            " — val_f1: 0.892802 — val_precision: 0.894001 — val_recall: 0.893040\n",
            "\n",
            "Epoch 21: val_accuracy did not improve from 0.89692\n",
            "300/300 [==============================] - 6s 20ms/step - loss: 0.2336 - accuracy: 0.9158 - categorical_crossentropy: 0.2336 - val_loss: 0.3007 - val_accuracy: 0.8930 - val_categorical_crossentropy: 0.3007 - val_f1: 0.8928 - val_recall: 0.8930 - val_precision: 0.8940\n",
            "Epoch 22/26\n",
            "1267/1267 [==============================] - 3s 2ms/step\n",
            " — val_f1: 0.893237 — val_precision: 0.894752 — val_recall: 0.893485\n",
            "\n",
            "Epoch 22: val_accuracy did not improve from 0.89692\n",
            "300/300 [==============================] - 8s 26ms/step - loss: 0.2248 - accuracy: 0.9203 - categorical_crossentropy: 0.2248 - val_loss: 0.3024 - val_accuracy: 0.8935 - val_categorical_crossentropy: 0.3024 - val_f1: 0.8932 - val_recall: 0.8935 - val_precision: 0.8948\n",
            "Epoch 23/26\n",
            "1267/1267 [==============================] - 3s 2ms/step\n",
            " — val_f1: 0.893500 — val_precision: 0.894402 — val_recall: 0.893830\n",
            "\n",
            "Epoch 23: val_accuracy did not improve from 0.89692\n",
            "300/300 [==============================] - 8s 27ms/step - loss: 0.2136 - accuracy: 0.9224 - categorical_crossentropy: 0.2136 - val_loss: 0.3038 - val_accuracy: 0.8938 - val_categorical_crossentropy: 0.3038 - val_f1: 0.8935 - val_recall: 0.8938 - val_precision: 0.8944\n",
            "Epoch 24/26\n",
            "1267/1267 [==============================] - 3s 2ms/step\n",
            " — val_f1: 0.894104 — val_precision: 0.895588 — val_recall: 0.894398\n",
            "\n",
            "Epoch 24: val_accuracy did not improve from 0.89692\n",
            "300/300 [==============================] - 6s 20ms/step - loss: 0.2067 - accuracy: 0.9255 - categorical_crossentropy: 0.2067 - val_loss: 0.3072 - val_accuracy: 0.8944 - val_categorical_crossentropy: 0.3072 - val_f1: 0.8941 - val_recall: 0.8944 - val_precision: 0.8956\n",
            "Epoch 25/26\n",
            "1267/1267 [==============================] - 3s 2ms/step\n",
            " — val_f1: 0.894643 — val_precision: 0.895716 — val_recall: 0.894842\n",
            "\n",
            "Epoch 25: val_accuracy did not improve from 0.89692\n",
            "300/300 [==============================] - 6s 20ms/step - loss: 0.1994 - accuracy: 0.9283 - categorical_crossentropy: 0.1994 - val_loss: 0.3071 - val_accuracy: 0.8948 - val_categorical_crossentropy: 0.3071 - val_f1: 0.8946 - val_recall: 0.8948 - val_precision: 0.8957\n",
            "Epoch 26/26\n",
            "1267/1267 [==============================] - 3s 2ms/step\n",
            " — val_f1: 0.894186 — val_precision: 0.895597 — val_recall: 0.894546\n",
            "\n",
            "Epoch 26: val_accuracy did not improve from 0.89692\n",
            "300/300 [==============================] - 6s 19ms/step - loss: 0.1919 - accuracy: 0.9296 - categorical_crossentropy: 0.1919 - val_loss: 0.3130 - val_accuracy: 0.8945 - val_categorical_crossentropy: 0.3130 - val_f1: 0.8942 - val_recall: 0.8945 - val_precision: 0.8956\n"
          ]
        },
        {
          "output_type": "execute_result",
          "data": {
            "text/plain": [
              "<keras.callbacks.History at 0x7fc40f53a550>"
            ]
          },
          "metadata": {},
          "execution_count": 74
        }
      ]
    },
    {
      "cell_type": "code",
      "source": [
        "eval_result = hypermodel.evaluate(x_test_svd, y_test_1_hot)\n",
        "print(\"[test loss, test accuracy]:\", eval_result)"
      ],
      "metadata": {
        "colab": {
          "base_uri": "https://localhost:8080/"
        },
        "id": "ZlFwNSXnSvll",
        "outputId": "c9773f6f-299d-4411-826e-fd5aed3d35d1"
      },
      "execution_count": null,
      "outputs": [
        {
          "output_type": "stream",
          "name": "stdout",
          "text": [
            "238/238 [==============================] - 1s 3ms/step - loss: 0.3065 - accuracy: 0.8992 - categorical_crossentropy: 0.3065\n",
            "[test loss, test accuracy]: [0.30645185708999634, 0.899210512638092, 0.30645185708999634]\n"
          ]
        }
      ]
    }
  ]
}